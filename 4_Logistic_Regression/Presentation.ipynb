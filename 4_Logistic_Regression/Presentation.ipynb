{
 "cells": [
  {
   "cell_type": "markdown",
   "metadata": {
    "slideshow": {
     "slide_type": "skip"
    }
   },
   "source": [
    "CEO-Request Challenge"
   ]
  },
  {
   "cell_type": "markdown",
   "metadata": {
    "slideshow": {
     "slide_type": "skip"
    }
   },
   "source": [
    "## 1. Problem statement (summarized)\n",
    "\n",
    ">❓ How should Olist improve its profit margin ❓, given that it has \n",
    "> - some revenues per sellers per months\n",
    "> - some revenues per orders\n",
    "> - some reputation costs (estimated) per bad reviews\n",
    "> - some operational costs of IT system that grows with number of orders, but not linearly (scale effects)\n",
    "\n",
    "\n",
    "Let's recap our key findings so far :\n",
    "- We have seen that `wait_time` was the most significant factor behind low review scores, but reading comments of the bad reviews also showed that some of them were linked to the seller or to the product itself.\n",
    "- `wait_time` is made up of seller's `delay_to_carrier` + `carrier_delivery_time`. The latter being outside of Olist's direct control, improving it is not a quick-win recommendation we can make to Olist CEO without in-depth analysis of their operational practices.\n",
    "- On the contrary, a better selection of `sellers` can positively impact the `delay_to_carrier` and reduce the number of bad `review_scores` on Olist.\n",
    "\n",
    "👉 We recommend you to start with the the seller analysis 1.1) below, but feel free to investigate into other hypothesis instead 1.2)"
   ]
  },
  {
   "cell_type": "markdown",
   "metadata": {
    "slideshow": {
     "slide_type": "skip"
    }
   },
   "source": [
    "### 1.1 (recommended) **Should Olist remove underperforming sellers from its marketplace ?** 🕵🏻"
   ]
  },
  {
   "cell_type": "markdown",
   "metadata": {
    "slideshow": {
     "slide_type": "skip"
    }
   },
   "source": [
    "To analyse the impact of removing the worse sellers from Olist's marketplace, we will perform a what-if analysis: What would have happened if Olist had never accepted these sellers in the first place? (granted, it's hard to know in advance who is a good seller, but let's start with this and iterate later).\n",
    "\n",
    "1️⃣ Compute, for each `seller_id`, and cumulated since the beginning:\n",
    "- the `revenues` it brings\n",
    "- the `costs` associated with all its bad reviews\n",
    "- the resulting `profits` (revenues - costs)\n",
    "- the number of `orders` (it will impact the overall IT costs)\n",
    "\n",
    "\n",
    "2️⃣ We can then:\n",
    "- sort sellers by increasing profits for Olist\n",
    "- for each number of sellers to remove, compute the financial impact it would have made if they had never been accepted on the platform. \n",
    "- we may find an optimal number of sellers to remove that maximizes Olist's profit margin\n",
    "\n",
    "👉 Write down a detailed strategy (step by step) to create the DataFrame you need for the first step.\n",
    "\n",
    "<br>\n",
    "\n",
    "<details>\n",
    "    <summary> <i>💡 Think about how to re-use or update the logic you've already coded in your 🗂 `olist` package</i> </summary>\n",
    "\n",
    "\n",
    "Starting from your current `seller().get_training_data()` DataFrame, can you easily transform it to compute:\n",
    "- Olist's positive `revenue_per_seller`? \n",
    "- Olist's `cost_of_bad_reviews`?\n",
    "\n",
    "You will orally present your insights to your favorite TA at the end of this unit `Communicate` \"\n",
    "</details>\n"
   ]
  },
  {
   "cell_type": "markdown",
   "metadata": {
    "slideshow": {
     "slide_type": "skip"
    }
   },
   "source": [
    "### 1.2 (optional): Here are other hypothesis you may want to investigate instead\n",
    "\n",
    "- Should Olist remove the worst performing products / categories from its marketplace entirely?\n",
    "- Should Olist remove only consistently underperforming sellers, after it has a honeymoon period of few months?\n",
    "- Should Olist restrict seller/customer pairs between certain states to avoid delays?\n",
    "- Should Olist acquire new sellers, with some cost assumptions to be suggested?\n",
    "- ...\n"
   ]
  },
  {
   "cell_type": "markdown",
   "metadata": {
    "slideshow": {
     "slide_type": "skip"
    }
   },
   "source": [
    "## Your turn!"
   ]
  },
  {
   "cell_type": "markdown",
   "metadata": {
    "slideshow": {
     "slide_type": "skip"
    }
   },
   "source": [
    "🧺 Keep this notebook tidy! \n",
    "\n",
    "📅 🗣 📊 You will orally present your insights to your favorite TA at the end of this unit `Communicate`"
   ]
  },
  {
   "cell_type": "code",
   "execution_count": 168,
   "metadata": {
    "slideshow": {
     "slide_type": "skip"
    }
   },
   "outputs": [],
   "source": [
    "from olist.seller import Seller\n",
    "import numpy as np\n",
    "import pandas as pd\n",
    "import matplotlib.pyplot as plt\n",
    "import seaborn as sns"
   ]
  },
  {
   "cell_type": "code",
   "execution_count": 201,
   "metadata": {
    "slideshow": {
     "slide_type": "skip"
    }
   },
   "outputs": [],
   "source": [
    "def get_review_score():\n",
    "\n",
    "    from olist.data import Olist\n",
    "    import numpy as np\n",
    "    import pandas as pd\n",
    "\n",
    "    data = Olist().get_data()\n",
    "\n",
    "    #filter out only wanted column from dataset\n",
    "    reviews = data['order_reviews'].filter(items=['order_id', 'review_score'])\n",
    "    items = data['order_items'].filter(items=['order_id', 'seller_id'])\n",
    "\n",
    "    #left merge on reviews as its the dataframe that has the review scores. Drop null & duplicates for repeated or empty items\n",
    "    overall = reviews.merge(items, how='left')\n",
    "    overall.dropna(inplace=True)\n",
    "    overall.drop_duplicates(inplace=True)\n",
    "\n",
    "    #create conditional columns for counting afterwards\n",
    "    overall['cost_of_review'] = overall.review_score.map({\n",
    "        1: 100,\n",
    "        2: 50,\n",
    "        3: 40,\n",
    "        4: 0,\n",
    "        5: 0\n",
    "    })\n",
    "\n",
    "    #groupby seller_id and agg to get percentage\n",
    "    answer = overall.groupby(by='seller_id').agg({\n",
    "        'cost_of_review': 'sum',\n",
    "    })\n",
    "\n",
    "    return answer"
   ]
  },
  {
   "cell_type": "code",
   "execution_count": 202,
   "metadata": {
    "slideshow": {
     "slide_type": "skip"
    }
   },
   "outputs": [
    {
     "data": {
      "text/html": [
       "<div>\n",
       "<style scoped>\n",
       "    .dataframe tbody tr th:only-of-type {\n",
       "        vertical-align: middle;\n",
       "    }\n",
       "\n",
       "    .dataframe tbody tr th {\n",
       "        vertical-align: top;\n",
       "    }\n",
       "\n",
       "    .dataframe thead th {\n",
       "        text-align: right;\n",
       "    }\n",
       "</style>\n",
       "<table border=\"1\" class=\"dataframe\">\n",
       "  <thead>\n",
       "    <tr style=\"text-align: right;\">\n",
       "      <th></th>\n",
       "      <th>cost_of_review</th>\n",
       "    </tr>\n",
       "    <tr>\n",
       "      <th>seller_id</th>\n",
       "      <th></th>\n",
       "    </tr>\n",
       "  </thead>\n",
       "  <tbody>\n",
       "    <tr>\n",
       "      <th>0015a82c2db000af6aaaf3ae2ecb0532</th>\n",
       "      <td>100</td>\n",
       "    </tr>\n",
       "    <tr>\n",
       "      <th>001cca7ae9ae17fb1caed9dfb1094831</th>\n",
       "      <td>3560</td>\n",
       "    </tr>\n",
       "    <tr>\n",
       "      <th>001e6ad469a905060d959994f1b41e4f</th>\n",
       "      <td>100</td>\n",
       "    </tr>\n",
       "    <tr>\n",
       "      <th>002100f778ceb8431b7a1020ff7ab48f</th>\n",
       "      <td>1110</td>\n",
       "    </tr>\n",
       "    <tr>\n",
       "      <th>003554e2dce176b5555353e4f3555ac8</th>\n",
       "      <td>0</td>\n",
       "    </tr>\n",
       "  </tbody>\n",
       "</table>\n",
       "</div>"
      ],
      "text/plain": [
       "                                  cost_of_review\n",
       "seller_id                                       \n",
       "0015a82c2db000af6aaaf3ae2ecb0532             100\n",
       "001cca7ae9ae17fb1caed9dfb1094831            3560\n",
       "001e6ad469a905060d959994f1b41e4f             100\n",
       "002100f778ceb8431b7a1020ff7ab48f            1110\n",
       "003554e2dce176b5555353e4f3555ac8               0"
      ]
     },
     "execution_count": 202,
     "metadata": {},
     "output_type": "execute_result"
    }
   ],
   "source": [
    "ans = get_review_score()\n",
    "ans.head()"
   ]
  },
  {
   "cell_type": "code",
   "execution_count": 203,
   "metadata": {
    "slideshow": {
     "slide_type": "skip"
    }
   },
   "outputs": [
    {
     "data": {
      "text/plain": [
       "(3090, 1)"
      ]
     },
     "execution_count": 203,
     "metadata": {},
     "output_type": "execute_result"
    }
   ],
   "source": [
    "ans.shape"
   ]
  },
  {
   "cell_type": "code",
   "execution_count": 212,
   "metadata": {
    "slideshow": {
     "slide_type": "skip"
    }
   },
   "outputs": [
    {
     "data": {
      "text/html": [
       "<div>\n",
       "<style scoped>\n",
       "    .dataframe tbody tr th:only-of-type {\n",
       "        vertical-align: middle;\n",
       "    }\n",
       "\n",
       "    .dataframe tbody tr th {\n",
       "        vertical-align: top;\n",
       "    }\n",
       "\n",
       "    .dataframe thead th {\n",
       "        text-align: right;\n",
       "    }\n",
       "</style>\n",
       "<table border=\"1\" class=\"dataframe\">\n",
       "  <thead>\n",
       "    <tr style=\"text-align: right;\">\n",
       "      <th></th>\n",
       "      <th>seller_id</th>\n",
       "      <th>seller_city</th>\n",
       "      <th>seller_state</th>\n",
       "      <th>delay_to_carrier</th>\n",
       "      <th>wait_time</th>\n",
       "      <th>date_first_sale</th>\n",
       "      <th>date_last_sale</th>\n",
       "      <th>months_on_olist</th>\n",
       "      <th>n_orders</th>\n",
       "      <th>quantity</th>\n",
       "      <th>quantity_per_order</th>\n",
       "      <th>sales</th>\n",
       "      <th>share_of_five_stars</th>\n",
       "      <th>share_of_one_stars</th>\n",
       "      <th>review_score</th>\n",
       "    </tr>\n",
       "  </thead>\n",
       "  <tbody>\n",
       "    <tr>\n",
       "      <th>0</th>\n",
       "      <td>3442f8959a84dea7ee197c632cb2df15</td>\n",
       "      <td>campinas</td>\n",
       "      <td>SP</td>\n",
       "      <td>0.0</td>\n",
       "      <td>13.018588</td>\n",
       "      <td>2017-05-05 16:25:11</td>\n",
       "      <td>2017-08-30 12:50:19</td>\n",
       "      <td>4.0</td>\n",
       "      <td>3</td>\n",
       "      <td>3</td>\n",
       "      <td>1.000</td>\n",
       "      <td>218.70</td>\n",
       "      <td>0.33</td>\n",
       "      <td>0.33</td>\n",
       "      <td>3.00</td>\n",
       "    </tr>\n",
       "    <tr>\n",
       "      <th>1</th>\n",
       "      <td>d1b65fc7debc3361ea86b5f14c68d2e2</td>\n",
       "      <td>mogi guacu</td>\n",
       "      <td>SP</td>\n",
       "      <td>0.0</td>\n",
       "      <td>9.065716</td>\n",
       "      <td>2017-03-29 02:10:34</td>\n",
       "      <td>2018-06-06 20:15:21</td>\n",
       "      <td>14.0</td>\n",
       "      <td>40</td>\n",
       "      <td>41</td>\n",
       "      <td>1.025</td>\n",
       "      <td>11703.07</td>\n",
       "      <td>0.72</td>\n",
       "      <td>0.05</td>\n",
       "      <td>4.55</td>\n",
       "    </tr>\n",
       "    <tr>\n",
       "      <th>2</th>\n",
       "      <td>ce3ad9de960102d0677a81f5d0bb7b2d</td>\n",
       "      <td>rio de janeiro</td>\n",
       "      <td>RJ</td>\n",
       "      <td>0.0</td>\n",
       "      <td>4.042292</td>\n",
       "      <td>2018-07-30 12:44:49</td>\n",
       "      <td>2018-07-30 12:44:49</td>\n",
       "      <td>0.0</td>\n",
       "      <td>1</td>\n",
       "      <td>1</td>\n",
       "      <td>1.000</td>\n",
       "      <td>158.00</td>\n",
       "      <td>1.00</td>\n",
       "      <td>0.00</td>\n",
       "      <td>5.00</td>\n",
       "    </tr>\n",
       "  </tbody>\n",
       "</table>\n",
       "</div>"
      ],
      "text/plain": [
       "                          seller_id     seller_city seller_state  \\\n",
       "0  3442f8959a84dea7ee197c632cb2df15        campinas           SP   \n",
       "1  d1b65fc7debc3361ea86b5f14c68d2e2      mogi guacu           SP   \n",
       "2  ce3ad9de960102d0677a81f5d0bb7b2d  rio de janeiro           RJ   \n",
       "\n",
       "   delay_to_carrier  wait_time     date_first_sale      date_last_sale  \\\n",
       "0               0.0  13.018588 2017-05-05 16:25:11 2017-08-30 12:50:19   \n",
       "1               0.0   9.065716 2017-03-29 02:10:34 2018-06-06 20:15:21   \n",
       "2               0.0   4.042292 2018-07-30 12:44:49 2018-07-30 12:44:49   \n",
       "\n",
       "   months_on_olist  n_orders  quantity  quantity_per_order     sales  \\\n",
       "0              4.0         3         3               1.000    218.70   \n",
       "1             14.0        40        41               1.025  11703.07   \n",
       "2              0.0         1         1               1.000    158.00   \n",
       "\n",
       "   share_of_five_stars  share_of_one_stars  review_score  \n",
       "0                 0.33                0.33          3.00  \n",
       "1                 0.72                0.05          4.55  \n",
       "2                 1.00                0.00          5.00  "
      ]
     },
     "execution_count": 212,
     "metadata": {},
     "output_type": "execute_result"
    }
   ],
   "source": [
    "sellers_info = Seller().get_training_data()\n",
    "sellers_info.head(3)"
   ]
  },
  {
   "cell_type": "code",
   "execution_count": 213,
   "metadata": {
    "slideshow": {
     "slide_type": "skip"
    }
   },
   "outputs": [
    {
     "data": {
      "text/plain": [
       "(2967, 15)"
      ]
     },
     "execution_count": 213,
     "metadata": {},
     "output_type": "execute_result"
    }
   ],
   "source": [
    "sellers_info.shape"
   ]
  },
  {
   "cell_type": "code",
   "execution_count": 214,
   "metadata": {
    "slideshow": {
     "slide_type": "skip"
    }
   },
   "outputs": [],
   "source": [
    "sellers_info = sellers_info.merge(ans, on='seller_id', how='inner')"
   ]
  },
  {
   "cell_type": "code",
   "execution_count": 215,
   "metadata": {
    "slideshow": {
     "slide_type": "skip"
    }
   },
   "outputs": [
    {
     "data": {
      "text/html": [
       "<div>\n",
       "<style scoped>\n",
       "    .dataframe tbody tr th:only-of-type {\n",
       "        vertical-align: middle;\n",
       "    }\n",
       "\n",
       "    .dataframe tbody tr th {\n",
       "        vertical-align: top;\n",
       "    }\n",
       "\n",
       "    .dataframe thead th {\n",
       "        text-align: right;\n",
       "    }\n",
       "</style>\n",
       "<table border=\"1\" class=\"dataframe\">\n",
       "  <thead>\n",
       "    <tr style=\"text-align: right;\">\n",
       "      <th></th>\n",
       "      <th>seller_id</th>\n",
       "      <th>seller_city</th>\n",
       "      <th>seller_state</th>\n",
       "      <th>delay_to_carrier</th>\n",
       "      <th>wait_time</th>\n",
       "      <th>date_first_sale</th>\n",
       "      <th>date_last_sale</th>\n",
       "      <th>months_on_olist</th>\n",
       "      <th>n_orders</th>\n",
       "      <th>quantity</th>\n",
       "      <th>quantity_per_order</th>\n",
       "      <th>sales</th>\n",
       "      <th>share_of_five_stars</th>\n",
       "      <th>share_of_one_stars</th>\n",
       "      <th>review_score</th>\n",
       "      <th>cost_of_review</th>\n",
       "    </tr>\n",
       "  </thead>\n",
       "  <tbody>\n",
       "    <tr>\n",
       "      <th>0</th>\n",
       "      <td>3442f8959a84dea7ee197c632cb2df15</td>\n",
       "      <td>campinas</td>\n",
       "      <td>SP</td>\n",
       "      <td>0.0</td>\n",
       "      <td>13.018588</td>\n",
       "      <td>2017-05-05 16:25:11</td>\n",
       "      <td>2017-08-30 12:50:19</td>\n",
       "      <td>4.0</td>\n",
       "      <td>3</td>\n",
       "      <td>3</td>\n",
       "      <td>1.000</td>\n",
       "      <td>218.70</td>\n",
       "      <td>0.33</td>\n",
       "      <td>0.33</td>\n",
       "      <td>3.00</td>\n",
       "      <td>140</td>\n",
       "    </tr>\n",
       "    <tr>\n",
       "      <th>1</th>\n",
       "      <td>d1b65fc7debc3361ea86b5f14c68d2e2</td>\n",
       "      <td>mogi guacu</td>\n",
       "      <td>SP</td>\n",
       "      <td>0.0</td>\n",
       "      <td>9.065716</td>\n",
       "      <td>2017-03-29 02:10:34</td>\n",
       "      <td>2018-06-06 20:15:21</td>\n",
       "      <td>14.0</td>\n",
       "      <td>40</td>\n",
       "      <td>41</td>\n",
       "      <td>1.025</td>\n",
       "      <td>11703.07</td>\n",
       "      <td>0.72</td>\n",
       "      <td>0.05</td>\n",
       "      <td>4.55</td>\n",
       "      <td>240</td>\n",
       "    </tr>\n",
       "    <tr>\n",
       "      <th>2</th>\n",
       "      <td>ce3ad9de960102d0677a81f5d0bb7b2d</td>\n",
       "      <td>rio de janeiro</td>\n",
       "      <td>RJ</td>\n",
       "      <td>0.0</td>\n",
       "      <td>4.042292</td>\n",
       "      <td>2018-07-30 12:44:49</td>\n",
       "      <td>2018-07-30 12:44:49</td>\n",
       "      <td>0.0</td>\n",
       "      <td>1</td>\n",
       "      <td>1</td>\n",
       "      <td>1.000</td>\n",
       "      <td>158.00</td>\n",
       "      <td>1.00</td>\n",
       "      <td>0.00</td>\n",
       "      <td>5.00</td>\n",
       "      <td>0</td>\n",
       "    </tr>\n",
       "  </tbody>\n",
       "</table>\n",
       "</div>"
      ],
      "text/plain": [
       "                          seller_id     seller_city seller_state  \\\n",
       "0  3442f8959a84dea7ee197c632cb2df15        campinas           SP   \n",
       "1  d1b65fc7debc3361ea86b5f14c68d2e2      mogi guacu           SP   \n",
       "2  ce3ad9de960102d0677a81f5d0bb7b2d  rio de janeiro           RJ   \n",
       "\n",
       "   delay_to_carrier  wait_time     date_first_sale      date_last_sale  \\\n",
       "0               0.0  13.018588 2017-05-05 16:25:11 2017-08-30 12:50:19   \n",
       "1               0.0   9.065716 2017-03-29 02:10:34 2018-06-06 20:15:21   \n",
       "2               0.0   4.042292 2018-07-30 12:44:49 2018-07-30 12:44:49   \n",
       "\n",
       "   months_on_olist  n_orders  quantity  quantity_per_order     sales  \\\n",
       "0              4.0         3         3               1.000    218.70   \n",
       "1             14.0        40        41               1.025  11703.07   \n",
       "2              0.0         1         1               1.000    158.00   \n",
       "\n",
       "   share_of_five_stars  share_of_one_stars  review_score  cost_of_review  \n",
       "0                 0.33                0.33          3.00             140  \n",
       "1                 0.72                0.05          4.55             240  \n",
       "2                 1.00                0.00          5.00               0  "
      ]
     },
     "execution_count": 215,
     "metadata": {},
     "output_type": "execute_result"
    }
   ],
   "source": [
    "sellers_info.head(3)"
   ]
  },
  {
   "cell_type": "code",
   "execution_count": 216,
   "metadata": {
    "slideshow": {
     "slide_type": "skip"
    }
   },
   "outputs": [
    {
     "data": {
      "text/html": [
       "<div>\n",
       "<style scoped>\n",
       "    .dataframe tbody tr th:only-of-type {\n",
       "        vertical-align: middle;\n",
       "    }\n",
       "\n",
       "    .dataframe tbody tr th {\n",
       "        vertical-align: top;\n",
       "    }\n",
       "\n",
       "    .dataframe thead th {\n",
       "        text-align: right;\n",
       "    }\n",
       "</style>\n",
       "<table border=\"1\" class=\"dataframe\">\n",
       "  <thead>\n",
       "    <tr style=\"text-align: right;\">\n",
       "      <th></th>\n",
       "      <th>seller_id</th>\n",
       "      <th>seller_city</th>\n",
       "      <th>seller_state</th>\n",
       "      <th>delay_to_carrier</th>\n",
       "      <th>wait_time</th>\n",
       "      <th>date_first_sale</th>\n",
       "      <th>date_last_sale</th>\n",
       "      <th>months_on_olist</th>\n",
       "      <th>n_orders</th>\n",
       "      <th>quantity</th>\n",
       "      <th>quantity_per_order</th>\n",
       "      <th>sales</th>\n",
       "      <th>share_of_five_stars</th>\n",
       "      <th>share_of_one_stars</th>\n",
       "      <th>review_score</th>\n",
       "      <th>cost_of_review</th>\n",
       "      <th>revenues</th>\n",
       "      <th>IT_cost</th>\n",
       "      <th>profit</th>\n",
       "    </tr>\n",
       "  </thead>\n",
       "  <tbody>\n",
       "    <tr>\n",
       "      <th>0</th>\n",
       "      <td>3442f8959a84dea7ee197c632cb2df15</td>\n",
       "      <td>campinas</td>\n",
       "      <td>SP</td>\n",
       "      <td>0.0</td>\n",
       "      <td>13.018588</td>\n",
       "      <td>2017-05-05 16:25:11</td>\n",
       "      <td>2017-08-30 12:50:19</td>\n",
       "      <td>4.0</td>\n",
       "      <td>3</td>\n",
       "      <td>3</td>\n",
       "      <td>1.000</td>\n",
       "      <td>218.70</td>\n",
       "      <td>0.33</td>\n",
       "      <td>0.33</td>\n",
       "      <td>3.00</td>\n",
       "      <td>140</td>\n",
       "      <td>341.870</td>\n",
       "      <td>15.023888</td>\n",
       "      <td>186.846112</td>\n",
       "    </tr>\n",
       "    <tr>\n",
       "      <th>1</th>\n",
       "      <td>d1b65fc7debc3361ea86b5f14c68d2e2</td>\n",
       "      <td>mogi guacu</td>\n",
       "      <td>SP</td>\n",
       "      <td>0.0</td>\n",
       "      <td>9.065716</td>\n",
       "      <td>2017-03-29 02:10:34</td>\n",
       "      <td>2018-06-06 20:15:21</td>\n",
       "      <td>14.0</td>\n",
       "      <td>40</td>\n",
       "      <td>41</td>\n",
       "      <td>1.025</td>\n",
       "      <td>11703.07</td>\n",
       "      <td>0.72</td>\n",
       "      <td>0.05</td>\n",
       "      <td>4.55</td>\n",
       "      <td>240</td>\n",
       "      <td>2290.307</td>\n",
       "      <td>200.318506</td>\n",
       "      <td>1849.988494</td>\n",
       "    </tr>\n",
       "    <tr>\n",
       "      <th>2</th>\n",
       "      <td>ce3ad9de960102d0677a81f5d0bb7b2d</td>\n",
       "      <td>rio de janeiro</td>\n",
       "      <td>RJ</td>\n",
       "      <td>0.0</td>\n",
       "      <td>4.042292</td>\n",
       "      <td>2018-07-30 12:44:49</td>\n",
       "      <td>2018-07-30 12:44:49</td>\n",
       "      <td>0.0</td>\n",
       "      <td>1</td>\n",
       "      <td>1</td>\n",
       "      <td>1.000</td>\n",
       "      <td>158.00</td>\n",
       "      <td>1.00</td>\n",
       "      <td>0.00</td>\n",
       "      <td>5.00</td>\n",
       "      <td>0</td>\n",
       "      <td>15.800</td>\n",
       "      <td>5.007963</td>\n",
       "      <td>10.792037</td>\n",
       "    </tr>\n",
       "  </tbody>\n",
       "</table>\n",
       "</div>"
      ],
      "text/plain": [
       "                          seller_id     seller_city seller_state  \\\n",
       "0  3442f8959a84dea7ee197c632cb2df15        campinas           SP   \n",
       "1  d1b65fc7debc3361ea86b5f14c68d2e2      mogi guacu           SP   \n",
       "2  ce3ad9de960102d0677a81f5d0bb7b2d  rio de janeiro           RJ   \n",
       "\n",
       "   delay_to_carrier  wait_time     date_first_sale      date_last_sale  \\\n",
       "0               0.0  13.018588 2017-05-05 16:25:11 2017-08-30 12:50:19   \n",
       "1               0.0   9.065716 2017-03-29 02:10:34 2018-06-06 20:15:21   \n",
       "2               0.0   4.042292 2018-07-30 12:44:49 2018-07-30 12:44:49   \n",
       "\n",
       "   months_on_olist  n_orders  quantity  quantity_per_order     sales  \\\n",
       "0              4.0         3         3               1.000    218.70   \n",
       "1             14.0        40        41               1.025  11703.07   \n",
       "2              0.0         1         1               1.000    158.00   \n",
       "\n",
       "   share_of_five_stars  share_of_one_stars  review_score  cost_of_review  \\\n",
       "0                 0.33                0.33          3.00             140   \n",
       "1                 0.72                0.05          4.55             240   \n",
       "2                 1.00                0.00          5.00               0   \n",
       "\n",
       "   revenues     IT_cost       profit  \n",
       "0   341.870   15.023888   186.846112  \n",
       "1  2290.307  200.318506  1849.988494  \n",
       "2    15.800    5.007963    10.792037  "
      ]
     },
     "execution_count": 216,
     "metadata": {},
     "output_type": "execute_result"
    }
   ],
   "source": [
    "sell_cal = sellers_info.copy()\n",
    "sell_cal[\n",
    "    'revenues'] = sell_cal['sales'] * 0.1 + 80 * sell_cal['months_on_olist']\n",
    "sell_cal['IT_cost'] = 500000 / sell_cal['n_orders'].sum(\n",
    ") * sell_cal['n_orders']\n",
    "sell_cal['profit'] = sell_cal['revenues'] - sell_cal[\n",
    "    'cost_of_review'] - sell_cal['IT_cost']\n",
    "sell_cal.head(3)"
   ]
  },
  {
   "cell_type": "code",
   "execution_count": 217,
   "metadata": {
    "scrolled": true,
    "slideshow": {
     "slide_type": "skip"
    }
   },
   "outputs": [
    {
     "data": {
      "text/plain": [
       "(-6000.0, 100.0)"
      ]
     },
     "execution_count": 217,
     "metadata": {},
     "output_type": "execute_result"
    },
    {
     "data": {
      "image/png": "[encoded data removed]",
      "text/plain": [
       "<Figure size 432x288 with 1 Axes>"
      ]
     },
     "metadata": {
      "needs_background": "light"
     },
     "output_type": "display_data"
    }
   ],
   "source": [
    "ax = sns.histplot(data=sell_cal[sell_cal['profit'] < 0], x='profit')\n",
    "ax.set_xlim(-6000, 100)"
   ]
  },
  {
   "cell_type": "code",
   "execution_count": 218,
   "metadata": {
    "slideshow": {
     "slide_type": "skip"
    }
   },
   "outputs": [
    {
     "data": {
      "text/plain": [
       "1582.3973364219244"
      ]
     },
     "execution_count": 218,
     "metadata": {},
     "output_type": "execute_result"
    }
   ],
   "source": [
    "IT_g = 500000 / np.sqrt(sell_cal['n_orders'].sum())\n",
    "IT_g\n",
    "#y = IT_g * sqrt(x)"
   ]
  },
  {
   "cell_type": "code",
   "execution_count": 219,
   "metadata": {
    "slideshow": {
     "slide_type": "skip"
    }
   },
   "outputs": [
    {
     "data": {
      "text/html": [
       "<div>\n",
       "<style scoped>\n",
       "    .dataframe tbody tr th:only-of-type {\n",
       "        vertical-align: middle;\n",
       "    }\n",
       "\n",
       "    .dataframe tbody tr th {\n",
       "        vertical-align: top;\n",
       "    }\n",
       "\n",
       "    .dataframe thead th {\n",
       "        text-align: right;\n",
       "    }\n",
       "</style>\n",
       "<table border=\"1\" class=\"dataframe\">\n",
       "  <thead>\n",
       "    <tr style=\"text-align: right;\">\n",
       "      <th></th>\n",
       "      <th>seller_id</th>\n",
       "      <th>n_orders</th>\n",
       "      <th>review_score</th>\n",
       "      <th>cost_of_review</th>\n",
       "      <th>revenues</th>\n",
       "      <th>IT_cost</th>\n",
       "      <th>profit</th>\n",
       "    </tr>\n",
       "  </thead>\n",
       "  <tbody>\n",
       "    <tr>\n",
       "      <th>769</th>\n",
       "      <td>6560211a19b47992c3666cc44a7e94c0</td>\n",
       "      <td>1854</td>\n",
       "      <td>3.94</td>\n",
       "      <td>35290</td>\n",
       "      <td>13770.483</td>\n",
       "      <td>9284.762773</td>\n",
       "      <td>-30804.279773</td>\n",
       "    </tr>\n",
       "    <tr>\n",
       "      <th>2358</th>\n",
       "      <td>4a3ca9315b744ce9f8e9374361493884</td>\n",
       "      <td>1806</td>\n",
       "      <td>3.83</td>\n",
       "      <td>39300</td>\n",
       "      <td>21647.292</td>\n",
       "      <td>9044.380565</td>\n",
       "      <td>-26697.088565</td>\n",
       "    </tr>\n",
       "    <tr>\n",
       "      <th>1357</th>\n",
       "      <td>cc419e0650a3c5ba77189a1882b7556a</td>\n",
       "      <td>1706</td>\n",
       "      <td>4.07</td>\n",
       "      <td>29300</td>\n",
       "      <td>11948.842</td>\n",
       "      <td>8543.584299</td>\n",
       "      <td>-25894.742299</td>\n",
       "    </tr>\n",
       "    <tr>\n",
       "      <th>945</th>\n",
       "      <td>ea8482cd71df3c1969d7b9473ff13abc</td>\n",
       "      <td>1146</td>\n",
       "      <td>4.00</td>\n",
       "      <td>20220</td>\n",
       "      <td>4677.752</td>\n",
       "      <td>5739.125209</td>\n",
       "      <td>-21281.373209</td>\n",
       "    </tr>\n",
       "    <tr>\n",
       "      <th>315</th>\n",
       "      <td>8b321bb669392f5163d04c59e235e066</td>\n",
       "      <td>943</td>\n",
       "      <td>4.07</td>\n",
       "      <td>15440</td>\n",
       "      <td>2553.569</td>\n",
       "      <td>4722.508789</td>\n",
       "      <td>-17608.939789</td>\n",
       "    </tr>\n",
       "    <tr>\n",
       "      <th>...</th>\n",
       "      <td>...</td>\n",
       "      <td>...</td>\n",
       "      <td>...</td>\n",
       "      <td>...</td>\n",
       "      <td>...</td>\n",
       "      <td>...</td>\n",
       "      <td>...</td>\n",
       "    </tr>\n",
       "    <tr>\n",
       "      <th>9</th>\n",
       "      <td>ccc4bbb5f32a6ab2b7066a4130f114e3</td>\n",
       "      <td>187</td>\n",
       "      <td>4.28</td>\n",
       "      <td>2220</td>\n",
       "      <td>8920.462</td>\n",
       "      <td>936.489018</td>\n",
       "      <td>5763.972982</td>\n",
       "    </tr>\n",
       "    <tr>\n",
       "      <th>2151</th>\n",
       "      <td>edb1ef5e36e0c8cd84eb3c9b003e486d</td>\n",
       "      <td>166</td>\n",
       "      <td>4.42</td>\n",
       "      <td>1520</td>\n",
       "      <td>8808.455</td>\n",
       "      <td>831.321802</td>\n",
       "      <td>6457.133198</td>\n",
       "    </tr>\n",
       "    <tr>\n",
       "      <th>534</th>\n",
       "      <td>fa1c13f2614d7b5c4749cbc52fecda94</td>\n",
       "      <td>585</td>\n",
       "      <td>4.34</td>\n",
       "      <td>6510</td>\n",
       "      <td>21004.203</td>\n",
       "      <td>2929.658156</td>\n",
       "      <td>11564.544844</td>\n",
       "    </tr>\n",
       "    <tr>\n",
       "      <th>67</th>\n",
       "      <td>7e93a43ef30c4f03f38b393420bc753a</td>\n",
       "      <td>336</td>\n",
       "      <td>4.21</td>\n",
       "      <td>4700</td>\n",
       "      <td>19323.187</td>\n",
       "      <td>1682.675454</td>\n",
       "      <td>12940.511546</td>\n",
       "    </tr>\n",
       "    <tr>\n",
       "      <th>868</th>\n",
       "      <td>53243585a1d6dc2643021fd1853d8905</td>\n",
       "      <td>358</td>\n",
       "      <td>4.13</td>\n",
       "      <td>5170</td>\n",
       "      <td>23237.605</td>\n",
       "      <td>1792.850633</td>\n",
       "      <td>16274.754367</td>\n",
       "    </tr>\n",
       "  </tbody>\n",
       "</table>\n",
       "<p>2967 rows × 7 columns</p>\n",
       "</div>"
      ],
      "text/plain": [
       "                             seller_id  n_orders  review_score  \\\n",
       "769   6560211a19b47992c3666cc44a7e94c0      1854          3.94   \n",
       "2358  4a3ca9315b744ce9f8e9374361493884      1806          3.83   \n",
       "1357  cc419e0650a3c5ba77189a1882b7556a      1706          4.07   \n",
       "945   ea8482cd71df3c1969d7b9473ff13abc      1146          4.00   \n",
       "315   8b321bb669392f5163d04c59e235e066       943          4.07   \n",
       "...                                ...       ...           ...   \n",
       "9     ccc4bbb5f32a6ab2b7066a4130f114e3       187          4.28   \n",
       "2151  edb1ef5e36e0c8cd84eb3c9b003e486d       166          4.42   \n",
       "534   fa1c13f2614d7b5c4749cbc52fecda94       585          4.34   \n",
       "67    7e93a43ef30c4f03f38b393420bc753a       336          4.21   \n",
       "868   53243585a1d6dc2643021fd1853d8905       358          4.13   \n",
       "\n",
       "      cost_of_review   revenues      IT_cost        profit  \n",
       "769            35290  13770.483  9284.762773 -30804.279773  \n",
       "2358           39300  21647.292  9044.380565 -26697.088565  \n",
       "1357           29300  11948.842  8543.584299 -25894.742299  \n",
       "945            20220   4677.752  5739.125209 -21281.373209  \n",
       "315            15440   2553.569  4722.508789 -17608.939789  \n",
       "...              ...        ...          ...           ...  \n",
       "9               2220   8920.462   936.489018   5763.972982  \n",
       "2151            1520   8808.455   831.321802   6457.133198  \n",
       "534             6510  21004.203  2929.658156  11564.544844  \n",
       "67              4700  19323.187  1682.675454  12940.511546  \n",
       "868             5170  23237.605  1792.850633  16274.754367  \n",
       "\n",
       "[2967 rows x 7 columns]"
      ]
     },
     "execution_count": 219,
     "metadata": {},
     "output_type": "execute_result"
    }
   ],
   "source": [
    "sell_cal.sort_values('profit').filter(items=[\n",
    "    'seller_id', 'n_orders', 'review_score', 'cost_of_review', 'revenues',\n",
    "    'IT_cost', 'profit'\n",
    "])"
   ]
  },
  {
   "cell_type": "code",
   "execution_count": 220,
   "metadata": {
    "slideshow": {
     "slide_type": "skip"
    }
   },
   "outputs": [
    {
     "data": {
      "text/plain": [
       "1204527.0264543723"
      ]
     },
     "execution_count": 220,
     "metadata": {},
     "output_type": "execute_result"
    }
   ],
   "source": [
    "sell_cal.sort_values('profit').tail(-478)['profit'].sum()"
   ]
  },
  {
   "cell_type": "code",
   "execution_count": 221,
   "metadata": {
    "slideshow": {
     "slide_type": "skip"
    }
   },
   "outputs": [
    {
     "data": {
      "text/plain": [
       "(463, 19)"
      ]
     },
     "execution_count": 221,
     "metadata": {},
     "output_type": "execute_result"
    }
   ],
   "source": [
    "sell_cal[sell_cal['profit'] < -18].shape"
   ]
  },
  {
   "cell_type": "code",
   "execution_count": 222,
   "metadata": {
    "scrolled": true,
    "slideshow": {
     "slide_type": "skip"
    }
   },
   "outputs": [
    {
     "data": {
      "text/html": [
       "<div>\n",
       "<style scoped>\n",
       "    .dataframe tbody tr th:only-of-type {\n",
       "        vertical-align: middle;\n",
       "    }\n",
       "\n",
       "    .dataframe tbody tr th {\n",
       "        vertical-align: top;\n",
       "    }\n",
       "\n",
       "    .dataframe thead th {\n",
       "        text-align: right;\n",
       "    }\n",
       "</style>\n",
       "<table border=\"1\" class=\"dataframe\">\n",
       "  <thead>\n",
       "    <tr style=\"text-align: right;\">\n",
       "      <th></th>\n",
       "      <th>seller_id</th>\n",
       "      <th>seller_city</th>\n",
       "      <th>seller_state</th>\n",
       "      <th>delay_to_carrier</th>\n",
       "      <th>wait_time</th>\n",
       "      <th>date_first_sale</th>\n",
       "      <th>date_last_sale</th>\n",
       "      <th>months_on_olist</th>\n",
       "      <th>n_orders</th>\n",
       "      <th>quantity</th>\n",
       "      <th>quantity_per_order</th>\n",
       "      <th>sales</th>\n",
       "      <th>share_of_five_stars</th>\n",
       "      <th>share_of_one_stars</th>\n",
       "      <th>review_score</th>\n",
       "      <th>cost_of_review</th>\n",
       "      <th>revenues</th>\n",
       "      <th>IT_cost</th>\n",
       "      <th>profit</th>\n",
       "    </tr>\n",
       "  </thead>\n",
       "  <tbody>\n",
       "    <tr>\n",
       "      <th>2504</th>\n",
       "      <td>4869f7a5dfa277a7dca6462dcf3b52b2</td>\n",
       "      <td>guariba</td>\n",
       "      <td>SP</td>\n",
       "      <td>0.0</td>\n",
       "      <td>15.005261</td>\n",
       "      <td>2017-03-07 13:04:43</td>\n",
       "      <td>2018-08-24 19:55:21</td>\n",
       "      <td>18.0</td>\n",
       "      <td>1132</td>\n",
       "      <td>1156</td>\n",
       "      <td>1.021201</td>\n",
       "      <td>229472.63</td>\n",
       "      <td>0.60</td>\n",
       "      <td>0.11</td>\n",
       "      <td>4.13</td>\n",
       "      <td>17480</td>\n",
       "      <td>24387.263</td>\n",
       "      <td>8209.513859</td>\n",
       "      <td>-1302.250859</td>\n",
       "    </tr>\n",
       "    <tr>\n",
       "      <th>71</th>\n",
       "      <td>7299e27ed73d2ad986de7f7c77d919fa</td>\n",
       "      <td>araguari</td>\n",
       "      <td>MG</td>\n",
       "      <td>0.0</td>\n",
       "      <td>11.322033</td>\n",
       "      <td>2017-03-09 11:09:46</td>\n",
       "      <td>2018-08-21 14:30:56</td>\n",
       "      <td>17.0</td>\n",
       "      <td>338</td>\n",
       "      <td>361</td>\n",
       "      <td>1.068047</td>\n",
       "      <td>34725.43</td>\n",
       "      <td>0.68</td>\n",
       "      <td>0.05</td>\n",
       "      <td>4.42</td>\n",
       "      <td>2950</td>\n",
       "      <td>4832.543</td>\n",
       "      <td>2451.250604</td>\n",
       "      <td>-568.707604</td>\n",
       "    </tr>\n",
       "    <tr>\n",
       "      <th>1954</th>\n",
       "      <td>54a1852d1b8f10312c55e906355666ee</td>\n",
       "      <td>santa barbara d'oeste</td>\n",
       "      <td>SP</td>\n",
       "      <td>0.0</td>\n",
       "      <td>11.517079</td>\n",
       "      <td>2017-01-13 16:25:19</td>\n",
       "      <td>2018-08-22 10:55:20</td>\n",
       "      <td>19.0</td>\n",
       "      <td>200</td>\n",
       "      <td>204</td>\n",
       "      <td>1.020000</td>\n",
       "      <td>17226.44</td>\n",
       "      <td>0.65</td>\n",
       "      <td>0.08</td>\n",
       "      <td>4.33</td>\n",
       "      <td>2170</td>\n",
       "      <td>3242.644</td>\n",
       "      <td>1450.444145</td>\n",
       "      <td>-377.800145</td>\n",
       "    </tr>\n",
       "    <tr>\n",
       "      <th>84</th>\n",
       "      <td>669ae81880e08f269a64487cfb287169</td>\n",
       "      <td>rio do sul</td>\n",
       "      <td>SC</td>\n",
       "      <td>0.0</td>\n",
       "      <td>11.985484</td>\n",
       "      <td>2017-01-21 14:50:18</td>\n",
       "      <td>2018-08-10 03:10:17</td>\n",
       "      <td>19.0</td>\n",
       "      <td>162</td>\n",
       "      <td>186</td>\n",
       "      <td>1.148148</td>\n",
       "      <td>13248.87</td>\n",
       "      <td>0.63</td>\n",
       "      <td>0.10</td>\n",
       "      <td>4.24</td>\n",
       "      <td>2040</td>\n",
       "      <td>2844.887</td>\n",
       "      <td>1174.859757</td>\n",
       "      <td>-369.972757</td>\n",
       "    </tr>\n",
       "    <tr>\n",
       "      <th>1744</th>\n",
       "      <td>0241d4d5d36f10f80c644447315af0bd</td>\n",
       "      <td>curitiba</td>\n",
       "      <td>PR</td>\n",
       "      <td>0.0</td>\n",
       "      <td>10.940865</td>\n",
       "      <td>2017-10-10 09:14:14</td>\n",
       "      <td>2018-08-29 03:15:39</td>\n",
       "      <td>11.0</td>\n",
       "      <td>238</td>\n",
       "      <td>246</td>\n",
       "      <td>1.033613</td>\n",
       "      <td>31397.70</td>\n",
       "      <td>0.68</td>\n",
       "      <td>0.08</td>\n",
       "      <td>4.34</td>\n",
       "      <td>2640</td>\n",
       "      <td>4019.770</td>\n",
       "      <td>1726.028532</td>\n",
       "      <td>-346.258532</td>\n",
       "    </tr>\n",
       "    <tr>\n",
       "      <th>...</th>\n",
       "      <td>...</td>\n",
       "      <td>...</td>\n",
       "      <td>...</td>\n",
       "      <td>...</td>\n",
       "      <td>...</td>\n",
       "      <td>...</td>\n",
       "      <td>...</td>\n",
       "      <td>...</td>\n",
       "      <td>...</td>\n",
       "      <td>...</td>\n",
       "      <td>...</td>\n",
       "      <td>...</td>\n",
       "      <td>...</td>\n",
       "      <td>...</td>\n",
       "      <td>...</td>\n",
       "      <td>...</td>\n",
       "      <td>...</td>\n",
       "      <td>...</td>\n",
       "      <td>...</td>\n",
       "    </tr>\n",
       "    <tr>\n",
       "      <th>9</th>\n",
       "      <td>ccc4bbb5f32a6ab2b7066a4130f114e3</td>\n",
       "      <td>curitiba</td>\n",
       "      <td>PR</td>\n",
       "      <td>0.0</td>\n",
       "      <td>15.853247</td>\n",
       "      <td>2017-01-07 14:00:13</td>\n",
       "      <td>2018-08-21 21:05:16</td>\n",
       "      <td>19.0</td>\n",
       "      <td>187</td>\n",
       "      <td>192</td>\n",
       "      <td>1.026738</td>\n",
       "      <td>74004.62</td>\n",
       "      <td>0.65</td>\n",
       "      <td>0.09</td>\n",
       "      <td>4.28</td>\n",
       "      <td>2220</td>\n",
       "      <td>8920.462</td>\n",
       "      <td>1356.165275</td>\n",
       "      <td>5344.296725</td>\n",
       "    </tr>\n",
       "    <tr>\n",
       "      <th>2151</th>\n",
       "      <td>edb1ef5e36e0c8cd84eb3c9b003e486d</td>\n",
       "      <td>teresopolis</td>\n",
       "      <td>RJ</td>\n",
       "      <td>0.0</td>\n",
       "      <td>11.709806</td>\n",
       "      <td>2017-09-30 09:49:22</td>\n",
       "      <td>2018-08-20 19:30:10</td>\n",
       "      <td>11.0</td>\n",
       "      <td>166</td>\n",
       "      <td>175</td>\n",
       "      <td>1.054217</td>\n",
       "      <td>79284.55</td>\n",
       "      <td>0.69</td>\n",
       "      <td>0.07</td>\n",
       "      <td>4.42</td>\n",
       "      <td>1520</td>\n",
       "      <td>8808.455</td>\n",
       "      <td>1203.868640</td>\n",
       "      <td>6084.586360</td>\n",
       "    </tr>\n",
       "    <tr>\n",
       "      <th>534</th>\n",
       "      <td>fa1c13f2614d7b5c4749cbc52fecda94</td>\n",
       "      <td>sumare</td>\n",
       "      <td>SP</td>\n",
       "      <td>0.0</td>\n",
       "      <td>13.341871</td>\n",
       "      <td>2017-01-07 20:55:10</td>\n",
       "      <td>2018-08-29 10:04:16</td>\n",
       "      <td>20.0</td>\n",
       "      <td>585</td>\n",
       "      <td>586</td>\n",
       "      <td>1.001709</td>\n",
       "      <td>194042.03</td>\n",
       "      <td>0.68</td>\n",
       "      <td>0.09</td>\n",
       "      <td>4.34</td>\n",
       "      <td>6510</td>\n",
       "      <td>21004.203</td>\n",
       "      <td>4242.549123</td>\n",
       "      <td>10251.653877</td>\n",
       "    </tr>\n",
       "    <tr>\n",
       "      <th>67</th>\n",
       "      <td>7e93a43ef30c4f03f38b393420bc753a</td>\n",
       "      <td>barueri</td>\n",
       "      <td>SP</td>\n",
       "      <td>0.0</td>\n",
       "      <td>11.335141</td>\n",
       "      <td>2016-10-08 03:19:09</td>\n",
       "      <td>2018-07-14 21:25:19</td>\n",
       "      <td>21.0</td>\n",
       "      <td>336</td>\n",
       "      <td>340</td>\n",
       "      <td>1.011905</td>\n",
       "      <td>176431.87</td>\n",
       "      <td>0.63</td>\n",
       "      <td>0.10</td>\n",
       "      <td>4.21</td>\n",
       "      <td>4700</td>\n",
       "      <td>19323.187</td>\n",
       "      <td>2436.746163</td>\n",
       "      <td>12186.440837</td>\n",
       "    </tr>\n",
       "    <tr>\n",
       "      <th>868</th>\n",
       "      <td>53243585a1d6dc2643021fd1853d8905</td>\n",
       "      <td>lauro de freitas</td>\n",
       "      <td>BA</td>\n",
       "      <td>0.0</td>\n",
       "      <td>13.374429</td>\n",
       "      <td>2017-08-28 18:44:58</td>\n",
       "      <td>2018-08-21 16:35:26</td>\n",
       "      <td>12.0</td>\n",
       "      <td>358</td>\n",
       "      <td>410</td>\n",
       "      <td>1.145251</td>\n",
       "      <td>222776.05</td>\n",
       "      <td>0.56</td>\n",
       "      <td>0.10</td>\n",
       "      <td>4.13</td>\n",
       "      <td>5170</td>\n",
       "      <td>23237.605</td>\n",
       "      <td>2596.295019</td>\n",
       "      <td>15471.309981</td>\n",
       "    </tr>\n",
       "  </tbody>\n",
       "</table>\n",
       "<p>2504 rows × 19 columns</p>\n",
       "</div>"
      ],
      "text/plain": [
       "                             seller_id            seller_city seller_state  \\\n",
       "2504  4869f7a5dfa277a7dca6462dcf3b52b2                guariba           SP   \n",
       "71    7299e27ed73d2ad986de7f7c77d919fa               araguari           MG   \n",
       "1954  54a1852d1b8f10312c55e906355666ee  santa barbara d'oeste           SP   \n",
       "84    669ae81880e08f269a64487cfb287169             rio do sul           SC   \n",
       "1744  0241d4d5d36f10f80c644447315af0bd               curitiba           PR   \n",
       "...                                ...                    ...          ...   \n",
       "9     ccc4bbb5f32a6ab2b7066a4130f114e3               curitiba           PR   \n",
       "2151  edb1ef5e36e0c8cd84eb3c9b003e486d            teresopolis           RJ   \n",
       "534   fa1c13f2614d7b5c4749cbc52fecda94                 sumare           SP   \n",
       "67    7e93a43ef30c4f03f38b393420bc753a                barueri           SP   \n",
       "868   53243585a1d6dc2643021fd1853d8905       lauro de freitas           BA   \n",
       "\n",
       "      delay_to_carrier  wait_time     date_first_sale      date_last_sale  \\\n",
       "2504               0.0  15.005261 2017-03-07 13:04:43 2018-08-24 19:55:21   \n",
       "71                 0.0  11.322033 2017-03-09 11:09:46 2018-08-21 14:30:56   \n",
       "1954               0.0  11.517079 2017-01-13 16:25:19 2018-08-22 10:55:20   \n",
       "84                 0.0  11.985484 2017-01-21 14:50:18 2018-08-10 03:10:17   \n",
       "1744               0.0  10.940865 2017-10-10 09:14:14 2018-08-29 03:15:39   \n",
       "...                ...        ...                 ...                 ...   \n",
       "9                  0.0  15.853247 2017-01-07 14:00:13 2018-08-21 21:05:16   \n",
       "2151               0.0  11.709806 2017-09-30 09:49:22 2018-08-20 19:30:10   \n",
       "534                0.0  13.341871 2017-01-07 20:55:10 2018-08-29 10:04:16   \n",
       "67                 0.0  11.335141 2016-10-08 03:19:09 2018-07-14 21:25:19   \n",
       "868                0.0  13.374429 2017-08-28 18:44:58 2018-08-21 16:35:26   \n",
       "\n",
       "      months_on_olist  n_orders  quantity  quantity_per_order      sales  \\\n",
       "2504             18.0      1132      1156            1.021201  229472.63   \n",
       "71               17.0       338       361            1.068047   34725.43   \n",
       "1954             19.0       200       204            1.020000   17226.44   \n",
       "84               19.0       162       186            1.148148   13248.87   \n",
       "1744             11.0       238       246            1.033613   31397.70   \n",
       "...               ...       ...       ...                 ...        ...   \n",
       "9                19.0       187       192            1.026738   74004.62   \n",
       "2151             11.0       166       175            1.054217   79284.55   \n",
       "534              20.0       585       586            1.001709  194042.03   \n",
       "67               21.0       336       340            1.011905  176431.87   \n",
       "868              12.0       358       410            1.145251  222776.05   \n",
       "\n",
       "      share_of_five_stars  share_of_one_stars  review_score  cost_of_review  \\\n",
       "2504                 0.60                0.11          4.13           17480   \n",
       "71                   0.68                0.05          4.42            2950   \n",
       "1954                 0.65                0.08          4.33            2170   \n",
       "84                   0.63                0.10          4.24            2040   \n",
       "1744                 0.68                0.08          4.34            2640   \n",
       "...                   ...                 ...           ...             ...   \n",
       "9                    0.65                0.09          4.28            2220   \n",
       "2151                 0.69                0.07          4.42            1520   \n",
       "534                  0.68                0.09          4.34            6510   \n",
       "67                   0.63                0.10          4.21            4700   \n",
       "868                  0.56                0.10          4.13            5170   \n",
       "\n",
       "       revenues      IT_cost        profit  \n",
       "2504  24387.263  8209.513859  -1302.250859  \n",
       "71     4832.543  2451.250604   -568.707604  \n",
       "1954   3242.644  1450.444145   -377.800145  \n",
       "84     2844.887  1174.859757   -369.972757  \n",
       "1744   4019.770  1726.028532   -346.258532  \n",
       "...         ...          ...           ...  \n",
       "9      8920.462  1356.165275   5344.296725  \n",
       "2151   8808.455  1203.868640   6084.586360  \n",
       "534   21004.203  4242.549123  10251.653877  \n",
       "67    19323.187  2436.746163  12186.440837  \n",
       "868   23237.605  2596.295019  15471.309981  \n",
       "\n",
       "[2504 rows x 19 columns]"
      ]
     },
     "execution_count": 222,
     "metadata": {},
     "output_type": "execute_result"
    }
   ],
   "source": [
    "updated = sell_cal[sell_cal['profit'] >= -18].copy()\n",
    "updated['IT_cost'] = IT_g * np.sqrt(updated['n_orders'].sum(\n",
    ")) * updated['n_orders'] / updated['n_orders'].sum()\n",
    "updated['profit'] = updated['revenues'] - updated['cost_of_review'] - updated[\n",
    "    'IT_cost']\n",
    "updated.sort_values('profit')"
   ]
  },
  {
   "cell_type": "code",
   "execution_count": 577,
   "metadata": {
    "slideshow": {
     "slide_type": "skip"
    },
    "tags": [
     "remove_input"
    ]
   },
   "outputs": [
    {
     "data": {
      "text/html": [
       "<div>\n",
       "<style scoped>\n",
       "    .dataframe tbody tr th:only-of-type {\n",
       "        vertical-align: middle;\n",
       "    }\n",
       "\n",
       "    .dataframe tbody tr th {\n",
       "        vertical-align: top;\n",
       "    }\n",
       "\n",
       "    .dataframe thead th {\n",
       "        text-align: right;\n",
       "    }\n",
       "</style>\n",
       "<table border=\"1\" class=\"dataframe\">\n",
       "  <thead>\n",
       "    <tr style=\"text-align: right;\">\n",
       "      <th></th>\n",
       "      <th>seller_id</th>\n",
       "      <th>seller_city</th>\n",
       "      <th>seller_state</th>\n",
       "      <th>delay_to_carrier</th>\n",
       "      <th>wait_time</th>\n",
       "      <th>date_first_sale</th>\n",
       "      <th>date_last_sale</th>\n",
       "      <th>months_on_olist</th>\n",
       "      <th>n_orders</th>\n",
       "      <th>quantity</th>\n",
       "      <th>quantity_per_order</th>\n",
       "      <th>sales</th>\n",
       "      <th>share_of_five_stars</th>\n",
       "      <th>share_of_one_stars</th>\n",
       "      <th>review_score</th>\n",
       "      <th>cost_of_review</th>\n",
       "      <th>revenues</th>\n",
       "      <th>IT_cost</th>\n",
       "      <th>profit</th>\n",
       "    </tr>\n",
       "  </thead>\n",
       "  <tbody>\n",
       "    <tr>\n",
       "      <th>0</th>\n",
       "      <td>6560211a19b47992c3666cc44a7e94c0</td>\n",
       "      <td>sao paulo</td>\n",
       "      <td>SP</td>\n",
       "      <td>0.0</td>\n",
       "      <td>9.539486</td>\n",
       "      <td>2017-02-17 07:45:11</td>\n",
       "      <td>2018-08-29 09:25:12</td>\n",
       "      <td>18.0</td>\n",
       "      <td>1854</td>\n",
       "      <td>2033</td>\n",
       "      <td>1.096548</td>\n",
       "      <td>123304.83</td>\n",
       "      <td>0.51</td>\n",
       "      <td>0.12</td>\n",
       "      <td>3.94</td>\n",
       "      <td>35290</td>\n",
       "      <td>13770.483</td>\n",
       "      <td>9284.762773</td>\n",
       "      <td>-30804.279773</td>\n",
       "    </tr>\n",
       "    <tr>\n",
       "      <th>1</th>\n",
       "      <td>4a3ca9315b744ce9f8e9374361493884</td>\n",
       "      <td>ibitinga</td>\n",
       "      <td>SP</td>\n",
       "      <td>0.0</td>\n",
       "      <td>14.416471</td>\n",
       "      <td>2017-01-08 09:45:12</td>\n",
       "      <td>2018-08-27 11:04:18</td>\n",
       "      <td>20.0</td>\n",
       "      <td>1806</td>\n",
       "      <td>1987</td>\n",
       "      <td>1.100221</td>\n",
       "      <td>200472.92</td>\n",
       "      <td>0.48</td>\n",
       "      <td>0.14</td>\n",
       "      <td>3.83</td>\n",
       "      <td>39300</td>\n",
       "      <td>21647.292</td>\n",
       "      <td>9044.380565</td>\n",
       "      <td>-26697.088565</td>\n",
       "    </tr>\n",
       "    <tr>\n",
       "      <th>2</th>\n",
       "      <td>cc419e0650a3c5ba77189a1882b7556a</td>\n",
       "      <td>santo andre</td>\n",
       "      <td>SP</td>\n",
       "      <td>0.0</td>\n",
       "      <td>11.539753</td>\n",
       "      <td>2017-02-02 17:10:21</td>\n",
       "      <td>2018-08-28 03:45:15</td>\n",
       "      <td>19.0</td>\n",
       "      <td>1706</td>\n",
       "      <td>1775</td>\n",
       "      <td>1.040445</td>\n",
       "      <td>104288.42</td>\n",
       "      <td>0.58</td>\n",
       "      <td>0.12</td>\n",
       "      <td>4.07</td>\n",
       "      <td>29300</td>\n",
       "      <td>11948.842</td>\n",
       "      <td>8543.584299</td>\n",
       "      <td>-25894.742299</td>\n",
       "    </tr>\n",
       "    <tr>\n",
       "      <th>3</th>\n",
       "      <td>ea8482cd71df3c1969d7b9473ff13abc</td>\n",
       "      <td>sao paulo</td>\n",
       "      <td>SP</td>\n",
       "      <td>0.0</td>\n",
       "      <td>13.315562</td>\n",
       "      <td>2017-08-16 15:15:26</td>\n",
       "      <td>2018-08-25 02:45:21</td>\n",
       "      <td>12.0</td>\n",
       "      <td>1146</td>\n",
       "      <td>1203</td>\n",
       "      <td>1.049738</td>\n",
       "      <td>37177.52</td>\n",
       "      <td>0.53</td>\n",
       "      <td>0.11</td>\n",
       "      <td>4.00</td>\n",
       "      <td>20220</td>\n",
       "      <td>4677.752</td>\n",
       "      <td>5739.125209</td>\n",
       "      <td>-21281.373209</td>\n",
       "    </tr>\n",
       "    <tr>\n",
       "      <th>4</th>\n",
       "      <td>8b321bb669392f5163d04c59e235e066</td>\n",
       "      <td>sao paulo</td>\n",
       "      <td>SP</td>\n",
       "      <td>0.0</td>\n",
       "      <td>12.616899</td>\n",
       "      <td>2017-10-27 16:31:30</td>\n",
       "      <td>2018-08-21 17:08:38</td>\n",
       "      <td>10.0</td>\n",
       "      <td>943</td>\n",
       "      <td>1018</td>\n",
       "      <td>1.079533</td>\n",
       "      <td>17535.69</td>\n",
       "      <td>0.57</td>\n",
       "      <td>0.12</td>\n",
       "      <td>4.07</td>\n",
       "      <td>15440</td>\n",
       "      <td>2553.569</td>\n",
       "      <td>4722.508789</td>\n",
       "      <td>-17608.939789</td>\n",
       "    </tr>\n",
       "  </tbody>\n",
       "</table>\n",
       "</div>"
      ],
      "text/plain": [
       "                          seller_id  seller_city seller_state  \\\n",
       "0  6560211a19b47992c3666cc44a7e94c0    sao paulo           SP   \n",
       "1  4a3ca9315b744ce9f8e9374361493884     ibitinga           SP   \n",
       "2  cc419e0650a3c5ba77189a1882b7556a  santo andre           SP   \n",
       "3  ea8482cd71df3c1969d7b9473ff13abc    sao paulo           SP   \n",
       "4  8b321bb669392f5163d04c59e235e066    sao paulo           SP   \n",
       "\n",
       "   delay_to_carrier  wait_time     date_first_sale      date_last_sale  \\\n",
       "0               0.0   9.539486 2017-02-17 07:45:11 2018-08-29 09:25:12   \n",
       "1               0.0  14.416471 2017-01-08 09:45:12 2018-08-27 11:04:18   \n",
       "2               0.0  11.539753 2017-02-02 17:10:21 2018-08-28 03:45:15   \n",
       "3               0.0  13.315562 2017-08-16 15:15:26 2018-08-25 02:45:21   \n",
       "4               0.0  12.616899 2017-10-27 16:31:30 2018-08-21 17:08:38   \n",
       "\n",
       "   months_on_olist  n_orders  quantity  quantity_per_order      sales  \\\n",
       "0             18.0      1854      2033            1.096548  123304.83   \n",
       "1             20.0      1806      1987            1.100221  200472.92   \n",
       "2             19.0      1706      1775            1.040445  104288.42   \n",
       "3             12.0      1146      1203            1.049738   37177.52   \n",
       "4             10.0       943      1018            1.079533   17535.69   \n",
       "\n",
       "   share_of_five_stars  share_of_one_stars  review_score  cost_of_review  \\\n",
       "0                 0.51                0.12          3.94           35290   \n",
       "1                 0.48                0.14          3.83           39300   \n",
       "2                 0.58                0.12          4.07           29300   \n",
       "3                 0.53                0.11          4.00           20220   \n",
       "4                 0.57                0.12          4.07           15440   \n",
       "\n",
       "    revenues      IT_cost        profit  \n",
       "0  13770.483  9284.762773 -30804.279773  \n",
       "1  21647.292  9044.380565 -26697.088565  \n",
       "2  11948.842  8543.584299 -25894.742299  \n",
       "3   4677.752  5739.125209 -21281.373209  \n",
       "4   2553.569  4722.508789 -17608.939789  "
      ]
     },
     "execution_count": 577,
     "metadata": {},
     "output_type": "execute_result"
    }
   ],
   "source": [
    "sell_cal.sort_values(by='profit').reset_index().drop(columns=['index']).head(5)"
   ]
  },
  {
   "cell_type": "markdown",
   "metadata": {
    "slideshow": {
     "slide_type": "slide"
    }
   },
   "source": [
    "<h1 style=\"text-align: center;\">Ways to improve profit margin</h1>\n",
    "\n"
   ]
  },
  {
   "cell_type": "markdown",
   "metadata": {
    "slideshow": {
     "slide_type": "subslide"
    }
   },
   "source": [
    "<h2>Current Condition & Recommendation </h2>"
   ]
  },
  {
   "cell_type": "markdown",
   "metadata": {
    "slideshow": {
     "slide_type": "fragment"
    }
   },
   "source": [
    "1. Current Profit Margin after considering revenue is 671618 BRLs. \n",
    "2. Effects and suggestion based on the cost of negative reviews.\n",
    "3. Fastest way will be to remove the sellers that bring more harm than good"
   ]
  },
  {
   "cell_type": "markdown",
   "metadata": {
    "slideshow": {
     "slide_type": "subslide"
    }
   },
   "source": [
    "<h2> Profit Margin after adjustment </h2>"
   ]
  },
  {
   "cell_type": "code",
   "execution_count": 674,
   "metadata": {
    "slideshow": {
     "slide_type": "fragment"
    },
    "tags": [
     "remove_input"
    ]
   },
   "outputs": [
    {
     "name": "stdout",
     "output_type": "stream",
     "text": [
      "Maximum Possible Profit: 1097481 BRLs\n",
      "Profit Cut-off Value: -15 BRLs\n",
      "Number of Sellers Removed: 474\n"
     ]
    }
   ],
   "source": [
    "profitlists = []\n",
    "it_cost = []\n",
    "revenues = []\n",
    "review_cost = []#get maximum profit of filtering sellers\n",
    "a = -1000\n",
    "b = 1000\n",
    "\n",
    "for x in range(a, b, 1):\n",
    "    updated = sell_cal[sell_cal['profit'] >= x].copy()\n",
    "    updated['IT_cost'] = IT_g * np.sqrt(\n",
    "        updated['n_orders'].sum()) * updated['n_orders'] / (\n",
    "            updated['n_orders'].sum())\n",
    "    updated['profit'] = updated['revenues'] - updated[\n",
    "        'cost_of_review'] - updated['IT_cost']\n",
    "\n",
    "    profitlists.append(sum(updated['profit']))\n",
    "    revenues.append(sum(updated['revenues']))\n",
    "    it_cost.append(sum(updated['IT_cost']))\n",
    "    review_cost.append(sum(updated['cost_of_review'] ))\n",
    "\n",
    "print(f'Maximum Possible Profit: {round(max(profitlists))} BRLs')\n",
    "print(f'Profit Cut-off Value: {a + profitlists.index(max(profitlists))} BRLs')\n",
    "print(\n",
    "    f\"Number of Sellers Removed: {sell_cal[sell_cal['profit']<(a + profitlists.index(max(profitlists)))].shape[0]}\"\n",
    ")"
   ]
  },
  {
   "cell_type": "code",
   "execution_count": 675,
   "metadata": {
    "slideshow": {
     "slide_type": "fragment"
    },
    "tags": [
     "remove_input"
    ]
   },
   "outputs": [
    {
     "data": {
      "image/png": "[encoded data removed]",
      "text/plain": [
       "<Figure size 1080x432 with 1 Axes>"
      ]
     },
     "metadata": {
      "needs_background": "light"
     },
     "output_type": "display_data"
    }
   ],
   "source": [
    "fig, ax = plt.subplots(figsize=(15, 6))\n",
    "\n",
    "plt.title('Profit Change after Removing Underperforming Seller')\n",
    "ax.plot(profitlists, color='blue', label='profit')\n",
    "ax.axhline(y=max(profitlists), xmin=0, xmax=985/2000, color='green', linewidth=2, linestyle='-')\n",
    "ax.axhline(y=sum(sell_cal['profit']), color='red', linestyle='-')\n",
    "ax.annotate(f'Max Possible Profit : {round(max(profitlists))}', xy=(250, max(profitlists) + 15000))\n",
    "ax.annotate(f\"Current Profit : {round(sum(sell_cal['profit']))}\", xy=(250, sum(sell_cal['profit']) + 15000))\n",
    "ax.set_xlabel('Individual Sellers profit in ascending order')\n",
    "ax.set_ylabel('Olist Profit')\n",
    "ax.set_xlim(0, 2000)\n",
    "ax.set_ylim(0,max(profitlists)+80000)\n",
    "ax.axvline(985,ymax=max(profitlists)/(max(profitlists)+80000))\n",
    "ax.legend()\n",
    "plt.xticks(np.linspace(0, 2000, 10), [round(x,2) for x in np.linspace(-2000,1000, 10)]);"
   ]
  },
  {
   "cell_type": "markdown",
   "metadata": {
    "slideshow": {
     "slide_type": "slide"
    }
   },
   "source": [
    "<h2>Concern</h2>\n",
    "<p>1. How is the profit generated ? </p>\n",
    "<p>2. Why is the cut off set at -15 BRLs ? </p>\n",
    "<p>3. How is the IT cost calculated?</p>"
   ]
  },
  {
   "cell_type": "markdown",
   "metadata": {
    "slideshow": {
     "slide_type": "subslide"
    }
   },
   "source": [
    "<h3>How is the profit value generated?</h3>\n",
    "<p>1. Profit = ( 10% of each seller sales + Monthly Fee ) - IT Cost - Review Cost</p>\n",
    "<p>2. How is review cost and IT cost generated?</p>"
   ]
  },
  {
   "cell_type": "markdown",
   "metadata": {
    "slideshow": {
     "slide_type": "subslide"
    }
   },
   "source": [
    "<h3>Review Cost</h3>\n",
    "<p>Calculated based on the data previously collected</p>\n",
    "<p>1. 100 BRLs for 1 Star Review</p> \n",
    "<p>2. 50 BRLs for 2 Star Review</p>\n",
    "<p>3. 40 BRLs for 3 Star Review</p>  \n",
    "<p>4. 0 BRLs for 4 Star & 5 Star Review</p>"
   ]
  },
  {
   "cell_type": "code",
   "execution_count": 648,
   "metadata": {
    "slideshow": {
     "slide_type": "fragment"
    },
    "tags": [
     "remove_input"
    ]
   },
   "outputs": [
    {
     "data": {
      "image/png": "[encoded data removed]",
      "text/plain": [
       "<Figure size 1080x360 with 1 Axes>"
      ]
     },
     "metadata": {
      "needs_background": "light"
     },
     "output_type": "display_data"
    }
   ],
   "source": [
    "fig, ax = plt.subplots(figsize=(15, 5))\n",
    "\n",
    "plt.title('Review Cost due to sellers removed')\n",
    "plt.plot(review_cost)\n",
    "plt.ylabel('Review Cost (BRLs)')\n",
    "plt.xlabel('Individual sellers in sequence of profits')\n",
    "\n",
    "ax.set_xlim(0, 2000)\n",
    "plt.xticks(np.linspace(0, 2000, 10), [round(x,2) for x in np.linspace(-1000, 1000, 10)]);"
   ]
  },
  {
   "cell_type": "markdown",
   "metadata": {
    "slideshow": {
     "slide_type": "subslide"
    }
   },
   "source": [
    "<h3>IT Cost</h3>\n",
    "<p>Calculated based on the squared root of total cumulated order</p>\n",
    "    \n",
    "<p>1. Higher cost to reflect actual IT cost when orders are lesser</p>\n",
    "<p>2. Squared root as it does not increase linearly</p>  "
   ]
  },
  {
   "cell_type": "code",
   "execution_count": 613,
   "metadata": {
    "slideshow": {
     "slide_type": "fragment"
    },
    "tags": [
     "remove_input"
    ]
   },
   "outputs": [
    {
     "data": {
      "image/png": "[encoded data removed]",
      "text/plain": [
       "<Figure size 1080x432 with 1 Axes>"
      ]
     },
     "metadata": {
      "needs_background": "light"
     },
     "output_type": "display_data"
    }
   ],
   "source": [
    "fig, ax = plt.subplots(figsize=(15, 6))\n",
    "\n",
    "plt.title('IT Cost due to sellers removed')\n",
    "plt.plot(it_cost)\n",
    "plt.ylabel('IT Cost (BRLs)')\n",
    "plt.xlabel('Individual sellers profit in ascending Order')\n",
    "ax.set_xlim(0, 2000)\n",
    "plt.xticks(np.linspace(0, 2000, 10), [round(x,2) for x in np.linspace(-1000, 1000, 10)]);"
   ]
  },
  {
   "cell_type": "code",
   "execution_count": 646,
   "metadata": {
    "scrolled": false,
    "slideshow": {
     "slide_type": "skip"
    },
    "tags": [
     "remove_input"
    ]
   },
   "outputs": [
    {
     "data": {
      "image/png": "[encoded data removed]",
      "text/plain": [
       "<Figure size 1080x432 with 1 Axes>"
      ]
     },
     "metadata": {
      "needs_background": "light"
     },
     "output_type": "display_data"
    }
   ],
   "source": [
    "test = sell_cal.sort_values('profit')['profit'].reset_index()  #initial graph of seller qty against profit\n",
    "plt.figure(figsize=(15, 6))\n",
    "plt.plot(test['profit'])\n",
    "plt.title('Profit of each sellers in before filtering')\n",
    "plt.xlabel('Individual sellers in sequence of profits')\n",
    "plt.ylabel('Profit from each sellers (BRLs)');"
   ]
  },
  {
   "cell_type": "markdown",
   "metadata": {
    "slideshow": {
     "slide_type": "subslide"
    }
   },
   "source": [
    "<h2>Profit of Each Sellers in ascending orders</h2>\n",
    "<p>1. Reduce profit loss by removing the sellers that cost much more than the income generated</p>\n",
    "<p>2. Sellers will be reduced by 474 people from 2967 people(- 15.9%)</p>"
   ]
  },
  {
   "cell_type": "code",
   "execution_count": 645,
   "metadata": {
    "slideshow": {
     "slide_type": "fragment"
    },
    "tags": [
     "remove_input"
    ]
   },
   "outputs": [
    {
     "data": {
      "image/png": "[encoded data removed]",
      "text/plain": [
       "<Figure size 1080x432 with 1 Axes>"
      ]
     },
     "metadata": {
      "needs_background": "light"
     },
     "output_type": "display_data"
    }
   ],
   "source": [
    "test2 = updated.sort_values('profit')['profit'].reset_index(\n",
    ")  #after filtering, the seller qty against profit\n",
    "plt.figure(figsize=(15, 6))\n",
    "plt.plot(test2['profit'])\n",
    "plt.axhline(y = -15,color='r')\n",
    "plt.annotate(f\"Profit cut off line : -15 BRLs\", xy=(150, -1000))\n",
    "plt.title('Profit of each sellers after filtering')\n",
    "plt.xlabel('Individual sellers in sequence of profits')\n",
    "plt.ylabel('Individual sellers profits (BRLs)');"
   ]
  },
  {
   "cell_type": "markdown",
   "metadata": {
    "slideshow": {
     "slide_type": "notes"
    }
   },
   "source": [
    "<h2>Conclusion</h2>\n",
    "<p>1. Profit Margin will increase by 1097481 - 671618 = 425863 BRLs (around 63%)</p>\n",
    "<p>2. Sellers will be reduced by 474 people from 2967 people(- 15.9%)</p>\n",
    "\n",
    "<h2>Other Possible Outlook</h2>\n",
    "<p>1. List of individual products according to their review scores</p>\n",
    "<p>2. List of product categories based on their review scores </p>"
   ]
  },
  {
   "cell_type": "code",
   "execution_count": 635,
   "metadata": {
    "slideshow": {
     "slide_type": "skip"
    }
   },
   "outputs": [
    {
     "data": {
      "text/plain": [
       "0.1597573306370071"
      ]
     },
     "execution_count": 635,
     "metadata": {},
     "output_type": "execute_result"
    }
   ],
   "source": [
    "474/2967"
   ]
  },
  {
   "cell_type": "code",
   "execution_count": 298,
   "metadata": {
    "scrolled": false,
    "slideshow": {
     "slide_type": "skip"
    }
   },
   "outputs": [
    {
     "data": {
      "text/plain": [
       "1097480.7951774693"
      ]
     },
     "execution_count": 298,
     "metadata": {},
     "output_type": "execute_result"
    }
   ],
   "source": [
    "updated = sell_cal[\n",
    "    sell_cal['profit'] >= -15].copy()  #double checking if the index is correct\n",
    "updated['IT_cost'] = IT_g * np.sqrt(updated['n_orders'].sum(\n",
    ")) * updated['n_orders'] / updated['n_orders'].sum()\n",
    "updated['profit'] = updated['revenues'] - updated['cost_of_review'] - updated[\n",
    "    'IT_cost']\n",
    "updated['profit'].sum()"
   ]
  },
  {
   "cell_type": "markdown",
   "metadata": {
    "slideshow": {
     "slide_type": "skip"
    }
   },
   "source": [
    "Group by Products"
   ]
  },
  {
   "cell_type": "code",
   "execution_count": 97,
   "metadata": {
    "slideshow": {
     "slide_type": "skip"
    }
   },
   "outputs": [
    {
     "data": {
      "text/html": [
       "<div>\n",
       "<style scoped>\n",
       "    .dataframe tbody tr th:only-of-type {\n",
       "        vertical-align: middle;\n",
       "    }\n",
       "\n",
       "    .dataframe tbody tr th {\n",
       "        vertical-align: top;\n",
       "    }\n",
       "\n",
       "    .dataframe thead th {\n",
       "        text-align: right;\n",
       "    }\n",
       "</style>\n",
       "<table border=\"1\" class=\"dataframe\">\n",
       "  <thead>\n",
       "    <tr style=\"text-align: right;\">\n",
       "      <th></th>\n",
       "      <th>review_id</th>\n",
       "      <th>order_id</th>\n",
       "      <th>review_score</th>\n",
       "      <th>review_comment_title</th>\n",
       "      <th>review_comment_message</th>\n",
       "      <th>review_creation_date</th>\n",
       "      <th>review_answer_timestamp</th>\n",
       "    </tr>\n",
       "  </thead>\n",
       "  <tbody>\n",
       "    <tr>\n",
       "      <th>0</th>\n",
       "      <td>7bc2406110b926393aa56f80a40eba40</td>\n",
       "      <td>73fc7af87114b39712e6da79b0a377eb</td>\n",
       "      <td>4</td>\n",
       "      <td>NaN</td>\n",
       "      <td>NaN</td>\n",
       "      <td>2018-01-18 00:00:00</td>\n",
       "      <td>2018-01-18 21:46:59</td>\n",
       "    </tr>\n",
       "    <tr>\n",
       "      <th>1</th>\n",
       "      <td>80e641a11e56f04c1ad469d5645fdfde</td>\n",
       "      <td>a548910a1c6147796b98fdf73dbeba33</td>\n",
       "      <td>5</td>\n",
       "      <td>NaN</td>\n",
       "      <td>NaN</td>\n",
       "      <td>2018-03-10 00:00:00</td>\n",
       "      <td>2018-03-11 03:05:13</td>\n",
       "    </tr>\n",
       "    <tr>\n",
       "      <th>2</th>\n",
       "      <td>228ce5500dc1d8e020d8d1322874b6f0</td>\n",
       "      <td>f9e4b658b201a9f2ecdecbb34bed034b</td>\n",
       "      <td>5</td>\n",
       "      <td>NaN</td>\n",
       "      <td>NaN</td>\n",
       "      <td>2018-02-17 00:00:00</td>\n",
       "      <td>2018-02-18 14:36:24</td>\n",
       "    </tr>\n",
       "  </tbody>\n",
       "</table>\n",
       "</div>"
      ],
      "text/plain": [
       "                          review_id                          order_id  \\\n",
       "0  7bc2406110b926393aa56f80a40eba40  73fc7af87114b39712e6da79b0a377eb   \n",
       "1  80e641a11e56f04c1ad469d5645fdfde  a548910a1c6147796b98fdf73dbeba33   \n",
       "2  228ce5500dc1d8e020d8d1322874b6f0  f9e4b658b201a9f2ecdecbb34bed034b   \n",
       "\n",
       "   review_score review_comment_title review_comment_message  \\\n",
       "0             4                  NaN                    NaN   \n",
       "1             5                  NaN                    NaN   \n",
       "2             5                  NaN                    NaN   \n",
       "\n",
       "  review_creation_date review_answer_timestamp  \n",
       "0  2018-01-18 00:00:00     2018-01-18 21:46:59  \n",
       "1  2018-03-10 00:00:00     2018-03-11 03:05:13  \n",
       "2  2018-02-17 00:00:00     2018-02-18 14:36:24  "
      ]
     },
     "execution_count": 97,
     "metadata": {},
     "output_type": "execute_result"
    }
   ],
   "source": [
    "from olist.data import Olist\n",
    "import numpy as np\n",
    "import pandas as pd\n",
    "\n",
    "data = Olist().get_data()\n",
    "\n",
    "data['order_reviews'].head(3)"
   ]
  },
  {
   "cell_type": "code",
   "execution_count": 96,
   "metadata": {
    "slideshow": {
     "slide_type": "skip"
    }
   },
   "outputs": [
    {
     "data": {
      "text/html": [
       "<div>\n",
       "<style scoped>\n",
       "    .dataframe tbody tr th:only-of-type {\n",
       "        vertical-align: middle;\n",
       "    }\n",
       "\n",
       "    .dataframe tbody tr th {\n",
       "        vertical-align: top;\n",
       "    }\n",
       "\n",
       "    .dataframe thead th {\n",
       "        text-align: right;\n",
       "    }\n",
       "</style>\n",
       "<table border=\"1\" class=\"dataframe\">\n",
       "  <thead>\n",
       "    <tr style=\"text-align: right;\">\n",
       "      <th></th>\n",
       "      <th>order_id</th>\n",
       "      <th>order_item_id</th>\n",
       "      <th>product_id</th>\n",
       "      <th>seller_id</th>\n",
       "      <th>shipping_limit_date</th>\n",
       "      <th>price</th>\n",
       "      <th>freight_value</th>\n",
       "    </tr>\n",
       "  </thead>\n",
       "  <tbody>\n",
       "    <tr>\n",
       "      <th>0</th>\n",
       "      <td>00010242fe8c5a6d1ba2dd792cb16214</td>\n",
       "      <td>1</td>\n",
       "      <td>4244733e06e7ecb4970a6e2683c13e61</td>\n",
       "      <td>48436dade18ac8b2bce089ec2a041202</td>\n",
       "      <td>2017-09-19 09:45:35</td>\n",
       "      <td>58.9</td>\n",
       "      <td>13.29</td>\n",
       "    </tr>\n",
       "    <tr>\n",
       "      <th>1</th>\n",
       "      <td>00018f77f2f0320c557190d7a144bdd3</td>\n",
       "      <td>1</td>\n",
       "      <td>e5f2d52b802189ee658865ca93d83a8f</td>\n",
       "      <td>dd7ddc04e1b6c2c614352b383efe2d36</td>\n",
       "      <td>2017-05-03 11:05:13</td>\n",
       "      <td>239.9</td>\n",
       "      <td>19.93</td>\n",
       "    </tr>\n",
       "    <tr>\n",
       "      <th>2</th>\n",
       "      <td>000229ec398224ef6ca0657da4fc703e</td>\n",
       "      <td>1</td>\n",
       "      <td>c777355d18b72b67abbeef9df44fd0fd</td>\n",
       "      <td>5b51032eddd242adc84c38acab88f23d</td>\n",
       "      <td>2018-01-18 14:48:30</td>\n",
       "      <td>199.0</td>\n",
       "      <td>17.87</td>\n",
       "    </tr>\n",
       "  </tbody>\n",
       "</table>\n",
       "</div>"
      ],
      "text/plain": [
       "                           order_id  order_item_id  \\\n",
       "0  00010242fe8c5a6d1ba2dd792cb16214              1   \n",
       "1  00018f77f2f0320c557190d7a144bdd3              1   \n",
       "2  000229ec398224ef6ca0657da4fc703e              1   \n",
       "\n",
       "                         product_id                         seller_id  \\\n",
       "0  4244733e06e7ecb4970a6e2683c13e61  48436dade18ac8b2bce089ec2a041202   \n",
       "1  e5f2d52b802189ee658865ca93d83a8f  dd7ddc04e1b6c2c614352b383efe2d36   \n",
       "2  c777355d18b72b67abbeef9df44fd0fd  5b51032eddd242adc84c38acab88f23d   \n",
       "\n",
       "   shipping_limit_date  price  freight_value  \n",
       "0  2017-09-19 09:45:35   58.9          13.29  \n",
       "1  2017-05-03 11:05:13  239.9          19.93  \n",
       "2  2018-01-18 14:48:30  199.0          17.87  "
      ]
     },
     "execution_count": 96,
     "metadata": {},
     "output_type": "execute_result"
    }
   ],
   "source": [
    "data['order_items'].head(3)"
   ]
  },
  {
   "cell_type": "code",
   "execution_count": 101,
   "metadata": {
    "slideshow": {
     "slide_type": "skip"
    }
   },
   "outputs": [
    {
     "data": {
      "text/html": [
       "<div>\n",
       "<style scoped>\n",
       "    .dataframe tbody tr th:only-of-type {\n",
       "        vertical-align: middle;\n",
       "    }\n",
       "\n",
       "    .dataframe tbody tr th {\n",
       "        vertical-align: top;\n",
       "    }\n",
       "\n",
       "    .dataframe thead th {\n",
       "        text-align: right;\n",
       "    }\n",
       "</style>\n",
       "<table border=\"1\" class=\"dataframe\">\n",
       "  <thead>\n",
       "    <tr style=\"text-align: right;\">\n",
       "      <th></th>\n",
       "      <th>product_id</th>\n",
       "      <th>product_category_name</th>\n",
       "      <th>product_name_lenght</th>\n",
       "      <th>product_description_lenght</th>\n",
       "      <th>product_photos_qty</th>\n",
       "      <th>product_weight_g</th>\n",
       "      <th>product_length_cm</th>\n",
       "      <th>product_height_cm</th>\n",
       "      <th>product_width_cm</th>\n",
       "    </tr>\n",
       "  </thead>\n",
       "  <tbody>\n",
       "    <tr>\n",
       "      <th>0</th>\n",
       "      <td>1e9e8ef04dbcff4541ed26657ea517e5</td>\n",
       "      <td>perfumaria</td>\n",
       "      <td>40.0</td>\n",
       "      <td>287.0</td>\n",
       "      <td>1.0</td>\n",
       "      <td>225.0</td>\n",
       "      <td>16.0</td>\n",
       "      <td>10.0</td>\n",
       "      <td>14.0</td>\n",
       "    </tr>\n",
       "    <tr>\n",
       "      <th>1</th>\n",
       "      <td>3aa071139cb16b67ca9e5dea641aaa2f</td>\n",
       "      <td>artes</td>\n",
       "      <td>44.0</td>\n",
       "      <td>276.0</td>\n",
       "      <td>1.0</td>\n",
       "      <td>1000.0</td>\n",
       "      <td>30.0</td>\n",
       "      <td>18.0</td>\n",
       "      <td>20.0</td>\n",
       "    </tr>\n",
       "    <tr>\n",
       "      <th>2</th>\n",
       "      <td>96bd76ec8810374ed1b65e291975717f</td>\n",
       "      <td>esporte_lazer</td>\n",
       "      <td>46.0</td>\n",
       "      <td>250.0</td>\n",
       "      <td>1.0</td>\n",
       "      <td>154.0</td>\n",
       "      <td>18.0</td>\n",
       "      <td>9.0</td>\n",
       "      <td>15.0</td>\n",
       "    </tr>\n",
       "  </tbody>\n",
       "</table>\n",
       "</div>"
      ],
      "text/plain": [
       "                         product_id product_category_name  \\\n",
       "0  1e9e8ef04dbcff4541ed26657ea517e5            perfumaria   \n",
       "1  3aa071139cb16b67ca9e5dea641aaa2f                 artes   \n",
       "2  96bd76ec8810374ed1b65e291975717f         esporte_lazer   \n",
       "\n",
       "   product_name_lenght  product_description_lenght  product_photos_qty  \\\n",
       "0                 40.0                       287.0                 1.0   \n",
       "1                 44.0                       276.0                 1.0   \n",
       "2                 46.0                       250.0                 1.0   \n",
       "\n",
       "   product_weight_g  product_length_cm  product_height_cm  product_width_cm  \n",
       "0             225.0               16.0               10.0              14.0  \n",
       "1            1000.0               30.0               18.0              20.0  \n",
       "2             154.0               18.0                9.0              15.0  "
      ]
     },
     "execution_count": 101,
     "metadata": {},
     "output_type": "execute_result"
    }
   ],
   "source": [
    "data['products'].head(3)"
   ]
  },
  {
   "cell_type": "code",
   "execution_count": 100,
   "metadata": {
    "slideshow": {
     "slide_type": "skip"
    }
   },
   "outputs": [
    {
     "data": {
      "text/html": [
       "<div>\n",
       "<style scoped>\n",
       "    .dataframe tbody tr th:only-of-type {\n",
       "        vertical-align: middle;\n",
       "    }\n",
       "\n",
       "    .dataframe tbody tr th {\n",
       "        vertical-align: top;\n",
       "    }\n",
       "\n",
       "    .dataframe thead th {\n",
       "        text-align: right;\n",
       "    }\n",
       "</style>\n",
       "<table border=\"1\" class=\"dataframe\">\n",
       "  <thead>\n",
       "    <tr style=\"text-align: right;\">\n",
       "      <th></th>\n",
       "      <th>order_id</th>\n",
       "      <th>customer_id</th>\n",
       "      <th>order_status</th>\n",
       "      <th>order_purchase_timestamp</th>\n",
       "      <th>order_approved_at</th>\n",
       "      <th>order_delivered_carrier_date</th>\n",
       "      <th>order_delivered_customer_date</th>\n",
       "      <th>order_estimated_delivery_date</th>\n",
       "    </tr>\n",
       "  </thead>\n",
       "  <tbody>\n",
       "    <tr>\n",
       "      <th>0</th>\n",
       "      <td>e481f51cbdc54678b7cc49136f2d6af7</td>\n",
       "      <td>9ef432eb6251297304e76186b10a928d</td>\n",
       "      <td>delivered</td>\n",
       "      <td>2017-10-02 10:56:33</td>\n",
       "      <td>2017-10-02 11:07:15</td>\n",
       "      <td>2017-10-04 19:55:00</td>\n",
       "      <td>2017-10-10 21:25:13</td>\n",
       "      <td>2017-10-18 00:00:00</td>\n",
       "    </tr>\n",
       "    <tr>\n",
       "      <th>1</th>\n",
       "      <td>53cdb2fc8bc7dce0b6741e2150273451</td>\n",
       "      <td>b0830fb4747a6c6d20dea0b8c802d7ef</td>\n",
       "      <td>delivered</td>\n",
       "      <td>2018-07-24 20:41:37</td>\n",
       "      <td>2018-07-26 03:24:27</td>\n",
       "      <td>2018-07-26 14:31:00</td>\n",
       "      <td>2018-08-07 15:27:45</td>\n",
       "      <td>2018-08-13 00:00:00</td>\n",
       "    </tr>\n",
       "    <tr>\n",
       "      <th>2</th>\n",
       "      <td>47770eb9100c2d0c44946d9cf07ec65d</td>\n",
       "      <td>41ce2a54c0b03bf3443c3d931a367089</td>\n",
       "      <td>delivered</td>\n",
       "      <td>2018-08-08 08:38:49</td>\n",
       "      <td>2018-08-08 08:55:23</td>\n",
       "      <td>2018-08-08 13:50:00</td>\n",
       "      <td>2018-08-17 18:06:29</td>\n",
       "      <td>2018-09-04 00:00:00</td>\n",
       "    </tr>\n",
       "  </tbody>\n",
       "</table>\n",
       "</div>"
      ],
      "text/plain": [
       "                           order_id                       customer_id  \\\n",
       "0  e481f51cbdc54678b7cc49136f2d6af7  9ef432eb6251297304e76186b10a928d   \n",
       "1  53cdb2fc8bc7dce0b6741e2150273451  b0830fb4747a6c6d20dea0b8c802d7ef   \n",
       "2  47770eb9100c2d0c44946d9cf07ec65d  41ce2a54c0b03bf3443c3d931a367089   \n",
       "\n",
       "  order_status order_purchase_timestamp    order_approved_at  \\\n",
       "0    delivered      2017-10-02 10:56:33  2017-10-02 11:07:15   \n",
       "1    delivered      2018-07-24 20:41:37  2018-07-26 03:24:27   \n",
       "2    delivered      2018-08-08 08:38:49  2018-08-08 08:55:23   \n",
       "\n",
       "  order_delivered_carrier_date order_delivered_customer_date  \\\n",
       "0          2017-10-04 19:55:00           2017-10-10 21:25:13   \n",
       "1          2018-07-26 14:31:00           2018-08-07 15:27:45   \n",
       "2          2018-08-08 13:50:00           2018-08-17 18:06:29   \n",
       "\n",
       "  order_estimated_delivery_date  \n",
       "0           2017-10-18 00:00:00  \n",
       "1           2018-08-13 00:00:00  \n",
       "2           2018-09-04 00:00:00  "
      ]
     },
     "execution_count": 100,
     "metadata": {},
     "output_type": "execute_result"
    }
   ],
   "source": [
    "data['orders'].head(3)"
   ]
  },
  {
   "cell_type": "code",
   "execution_count": 118,
   "metadata": {
    "slideshow": {
     "slide_type": "skip"
    }
   },
   "outputs": [
    {
     "data": {
      "text/html": [
       "<div>\n",
       "<style scoped>\n",
       "    .dataframe tbody tr th:only-of-type {\n",
       "        vertical-align: middle;\n",
       "    }\n",
       "\n",
       "    .dataframe tbody tr th {\n",
       "        vertical-align: top;\n",
       "    }\n",
       "\n",
       "    .dataframe thead th {\n",
       "        text-align: right;\n",
       "    }\n",
       "</style>\n",
       "<table border=\"1\" class=\"dataframe\">\n",
       "  <thead>\n",
       "    <tr style=\"text-align: right;\">\n",
       "      <th></th>\n",
       "      <th>product_category_name</th>\n",
       "      <th>product_category_name_english</th>\n",
       "    </tr>\n",
       "  </thead>\n",
       "  <tbody>\n",
       "    <tr>\n",
       "      <th>0</th>\n",
       "      <td>beleza_saude</td>\n",
       "      <td>health_beauty</td>\n",
       "    </tr>\n",
       "    <tr>\n",
       "      <th>1</th>\n",
       "      <td>informatica_acessorios</td>\n",
       "      <td>computers_accessories</td>\n",
       "    </tr>\n",
       "    <tr>\n",
       "      <th>2</th>\n",
       "      <td>automotivo</td>\n",
       "      <td>auto</td>\n",
       "    </tr>\n",
       "    <tr>\n",
       "      <th>3</th>\n",
       "      <td>cama_mesa_banho</td>\n",
       "      <td>bed_bath_table</td>\n",
       "    </tr>\n",
       "    <tr>\n",
       "      <th>4</th>\n",
       "      <td>moveis_decoracao</td>\n",
       "      <td>furniture_decor</td>\n",
       "    </tr>\n",
       "    <tr>\n",
       "      <th>...</th>\n",
       "      <td>...</td>\n",
       "      <td>...</td>\n",
       "    </tr>\n",
       "    <tr>\n",
       "      <th>66</th>\n",
       "      <td>flores</td>\n",
       "      <td>flowers</td>\n",
       "    </tr>\n",
       "    <tr>\n",
       "      <th>67</th>\n",
       "      <td>artes_e_artesanato</td>\n",
       "      <td>arts_and_craftmanship</td>\n",
       "    </tr>\n",
       "    <tr>\n",
       "      <th>68</th>\n",
       "      <td>fraldas_higiene</td>\n",
       "      <td>diapers_and_hygiene</td>\n",
       "    </tr>\n",
       "    <tr>\n",
       "      <th>69</th>\n",
       "      <td>fashion_roupa_infanto_juvenil</td>\n",
       "      <td>fashion_childrens_clothes</td>\n",
       "    </tr>\n",
       "    <tr>\n",
       "      <th>70</th>\n",
       "      <td>seguros_e_servicos</td>\n",
       "      <td>security_and_services</td>\n",
       "    </tr>\n",
       "  </tbody>\n",
       "</table>\n",
       "<p>71 rows × 2 columns</p>\n",
       "</div>"
      ],
      "text/plain": [
       "            product_category_name product_category_name_english\n",
       "0                    beleza_saude                 health_beauty\n",
       "1          informatica_acessorios         computers_accessories\n",
       "2                      automotivo                          auto\n",
       "3                 cama_mesa_banho                bed_bath_table\n",
       "4                moveis_decoracao               furniture_decor\n",
       "..                            ...                           ...\n",
       "66                         flores                       flowers\n",
       "67             artes_e_artesanato         arts_and_craftmanship\n",
       "68                fraldas_higiene           diapers_and_hygiene\n",
       "69  fashion_roupa_infanto_juvenil     fashion_childrens_clothes\n",
       "70             seguros_e_servicos         security_and_services\n",
       "\n",
       "[71 rows x 2 columns]"
      ]
     },
     "execution_count": 118,
     "metadata": {},
     "output_type": "execute_result"
    }
   ],
   "source": [
    "data['product_category_name_translation']"
   ]
  },
  {
   "cell_type": "code",
   "execution_count": 161,
   "metadata": {
    "slideshow": {
     "slide_type": "skip"
    }
   },
   "outputs": [],
   "source": [
    "def review_score_byprod():\n",
    "\n",
    "    from olist.data import Olist\n",
    "    import numpy as np\n",
    "    import pandas as pd\n",
    "\n",
    "    data = Olist().get_data()\n",
    "\n",
    "    #filter out only wanted column from dataset\n",
    "    reviews = data['order_reviews'].filter(items=['order_id', 'review_score'])\n",
    "    items = data['order_items'].filter(\n",
    "        items=['order_id', 'product_id', 'price', 'seller_id'])\n",
    "    products = data['products'].merge(\n",
    "        data['product_category_name_translation'], on='product_category_name')\n",
    "    products = products.filter(\n",
    "        items=['product_id', 'product_category_name_english'])\n",
    "\n",
    "    #left merge on reviews as its the dataframe that has the review scores. Drop null & duplicates for repeated or empty items\n",
    "    overall = reviews.merge(items, how='outer', on='order_id')\n",
    "    overall = overall.merge(products, how='outer', on='product_id')\n",
    "    overall.dropna(inplace=True)\n",
    "    overall.drop_duplicates(inplace=True)\n",
    "\n",
    "    #create conditional columns for counting afterwards\n",
    "    overall['cost_of_review'] = overall.review_score.map({\n",
    "        1: 100,\n",
    "        2: 50,\n",
    "        3: 40,\n",
    "        4: 0,\n",
    "        5: 0\n",
    "    })\n",
    "\n",
    "    #groupby seller_id and agg to get percentage\n",
    "    #     answer = overall.groupby(by=['product_id']).agg({\n",
    "\n",
    "    #         'cost_of_review': 'sum',\n",
    "    #         'review_score': lambda x: round(x.mean(),2)})\n",
    "\n",
    "    return overall"
   ]
  },
  {
   "cell_type": "code",
   "execution_count": 163,
   "metadata": {
    "slideshow": {
     "slide_type": "skip"
    }
   },
   "outputs": [
    {
     "data": {
      "text/html": [
       "<div>\n",
       "<style scoped>\n",
       "    .dataframe tbody tr th:only-of-type {\n",
       "        vertical-align: middle;\n",
       "    }\n",
       "\n",
       "    .dataframe tbody tr th {\n",
       "        vertical-align: top;\n",
       "    }\n",
       "\n",
       "    .dataframe thead th {\n",
       "        text-align: right;\n",
       "    }\n",
       "</style>\n",
       "<table border=\"1\" class=\"dataframe\">\n",
       "  <thead>\n",
       "    <tr style=\"text-align: right;\">\n",
       "      <th></th>\n",
       "      <th>product_id</th>\n",
       "      <th>seller_id</th>\n",
       "      <th>product_category_name_english</th>\n",
       "      <th>review_score</th>\n",
       "      <th>price</th>\n",
       "      <th>cost_of_review</th>\n",
       "      <th>cost</th>\n",
       "    </tr>\n",
       "  </thead>\n",
       "  <tbody>\n",
       "    <tr>\n",
       "      <th>41297</th>\n",
       "      <td>8a3254bee785a526d548a81a9bc3c9be</td>\n",
       "      <td>96804ea39d96eb908e7c3afdb671bb9e</td>\n",
       "      <td>construction_tools_construction</td>\n",
       "      <td>1.0</td>\n",
       "      <td>0.85</td>\n",
       "      <td>100</td>\n",
       "      <td>-99.915</td>\n",
       "    </tr>\n",
       "    <tr>\n",
       "      <th>62064</th>\n",
       "      <td>05b515fdc76e888aada3c6d66c201dff</td>\n",
       "      <td>2709af9587499e95e803a6498a5a56e9</td>\n",
       "      <td>health_beauty</td>\n",
       "      <td>1.0</td>\n",
       "      <td>1.20</td>\n",
       "      <td>100</td>\n",
       "      <td>-99.880</td>\n",
       "    </tr>\n",
       "    <tr>\n",
       "      <th>62063</th>\n",
       "      <td>270516a3f41dc035aa87d220228f844c</td>\n",
       "      <td>2709af9587499e95e803a6498a5a56e9</td>\n",
       "      <td>health_beauty</td>\n",
       "      <td>1.0</td>\n",
       "      <td>1.20</td>\n",
       "      <td>100</td>\n",
       "      <td>-99.880</td>\n",
       "    </tr>\n",
       "    <tr>\n",
       "      <th>48211</th>\n",
       "      <td>f2d80346f1dd6986e9e6611db7b708aa</td>\n",
       "      <td>94b9108d4b637ba65bb4f1e53cfcf8d8</td>\n",
       "      <td>baby</td>\n",
       "      <td>1.0</td>\n",
       "      <td>3.54</td>\n",
       "      <td>100</td>\n",
       "      <td>-99.646</td>\n",
       "    </tr>\n",
       "    <tr>\n",
       "      <th>38266</th>\n",
       "      <td>ba82e510acd9a0fe69a44cafea53f9aa</td>\n",
       "      <td>0e44d110fa6a54e121cb2c095a77762f</td>\n",
       "      <td>stationery</td>\n",
       "      <td>1.0</td>\n",
       "      <td>4.20</td>\n",
       "      <td>100</td>\n",
       "      <td>-99.580</td>\n",
       "    </tr>\n",
       "    <tr>\n",
       "      <th>...</th>\n",
       "      <td>...</td>\n",
       "      <td>...</td>\n",
       "      <td>...</td>\n",
       "      <td>...</td>\n",
       "      <td>...</td>\n",
       "      <td>...</td>\n",
       "      <td>...</td>\n",
       "    </tr>\n",
       "    <tr>\n",
       "      <th>98597</th>\n",
       "      <td>259037a6a41845e455183f89c5035f18</td>\n",
       "      <td>c72de06d72748d1a0dfb2125be43ba63</td>\n",
       "      <td>computers</td>\n",
       "      <td>5.0</td>\n",
       "      <td>4590.00</td>\n",
       "      <td>0</td>\n",
       "      <td>459.000</td>\n",
       "    </tr>\n",
       "    <tr>\n",
       "      <th>93045</th>\n",
       "      <td>c3ed642d592594bb648ff4a04cee2747</td>\n",
       "      <td>59417c56835dd8e2e72f91f809cd4092</td>\n",
       "      <td>small_appliances</td>\n",
       "      <td>4.0</td>\n",
       "      <td>4690.00</td>\n",
       "      <td>0</td>\n",
       "      <td>469.000</td>\n",
       "    </tr>\n",
       "    <tr>\n",
       "      <th>78587</th>\n",
       "      <td>a6492cc69376c469ab6f61d8f44de961</td>\n",
       "      <td>59417c56835dd8e2e72f91f809cd4092</td>\n",
       "      <td>small_appliances</td>\n",
       "      <td>5.0</td>\n",
       "      <td>4799.00</td>\n",
       "      <td>0</td>\n",
       "      <td>479.900</td>\n",
       "    </tr>\n",
       "    <tr>\n",
       "      <th>79100</th>\n",
       "      <td>1bdf5e6731585cf01aa8169c7028d6ad</td>\n",
       "      <td>ee27a8f15b1dded4d213a468ba4eb391</td>\n",
       "      <td>art</td>\n",
       "      <td>5.0</td>\n",
       "      <td>6499.00</td>\n",
       "      <td>0</td>\n",
       "      <td>649.900</td>\n",
       "    </tr>\n",
       "    <tr>\n",
       "      <th>86576</th>\n",
       "      <td>489ae2aa008f021502940f251d4cce7f</td>\n",
       "      <td>e3b4998c7a498169dc7bce44e6bb6277</td>\n",
       "      <td>housewares</td>\n",
       "      <td>5.0</td>\n",
       "      <td>6735.00</td>\n",
       "      <td>0</td>\n",
       "      <td>673.500</td>\n",
       "    </tr>\n",
       "  </tbody>\n",
       "</table>\n",
       "<p>100381 rows × 7 columns</p>\n",
       "</div>"
      ],
      "text/plain": [
       "                             product_id                         seller_id  \\\n",
       "41297  8a3254bee785a526d548a81a9bc3c9be  96804ea39d96eb908e7c3afdb671bb9e   \n",
       "62064  05b515fdc76e888aada3c6d66c201dff  2709af9587499e95e803a6498a5a56e9   \n",
       "62063  270516a3f41dc035aa87d220228f844c  2709af9587499e95e803a6498a5a56e9   \n",
       "48211  f2d80346f1dd6986e9e6611db7b708aa  94b9108d4b637ba65bb4f1e53cfcf8d8   \n",
       "38266  ba82e510acd9a0fe69a44cafea53f9aa  0e44d110fa6a54e121cb2c095a77762f   \n",
       "...                                 ...                               ...   \n",
       "98597  259037a6a41845e455183f89c5035f18  c72de06d72748d1a0dfb2125be43ba63   \n",
       "93045  c3ed642d592594bb648ff4a04cee2747  59417c56835dd8e2e72f91f809cd4092   \n",
       "78587  a6492cc69376c469ab6f61d8f44de961  59417c56835dd8e2e72f91f809cd4092   \n",
       "79100  1bdf5e6731585cf01aa8169c7028d6ad  ee27a8f15b1dded4d213a468ba4eb391   \n",
       "86576  489ae2aa008f021502940f251d4cce7f  e3b4998c7a498169dc7bce44e6bb6277   \n",
       "\n",
       "         product_category_name_english  review_score    price  cost_of_review  \\\n",
       "41297  construction_tools_construction           1.0     0.85             100   \n",
       "62064                    health_beauty           1.0     1.20             100   \n",
       "62063                    health_beauty           1.0     1.20             100   \n",
       "48211                             baby           1.0     3.54             100   \n",
       "38266                       stationery           1.0     4.20             100   \n",
       "...                                ...           ...      ...             ...   \n",
       "98597                        computers           5.0  4590.00               0   \n",
       "93045                 small_appliances           4.0  4690.00               0   \n",
       "78587                 small_appliances           5.0  4799.00               0   \n",
       "79100                              art           5.0  6499.00               0   \n",
       "86576                       housewares           5.0  6735.00               0   \n",
       "\n",
       "          cost  \n",
       "41297  -99.915  \n",
       "62064  -99.880  \n",
       "62063  -99.880  \n",
       "48211  -99.646  \n",
       "38266  -99.580  \n",
       "...        ...  \n",
       "98597  459.000  \n",
       "93045  469.000  \n",
       "78587  479.900  \n",
       "79100  649.900  \n",
       "86576  673.500  \n",
       "\n",
       "[100381 rows x 7 columns]"
      ]
     },
     "execution_count": 163,
     "metadata": {},
     "output_type": "execute_result"
    }
   ],
   "source": [
    "prod = review_score_byprod().filter(items=[\n",
    "    'product_id', 'seller_id', 'product_category_name_english', 'review_score',\n",
    "    'price', 'cost_of_review', 'cost'\n",
    "])\n",
    "prod = prod.reset_index().drop(columns=['index'])\n",
    "prod['cost'] = (prod['price'] * 0.1) - prod['cost_of_review']\n",
    "\n",
    "prod.sort_values(by='cost')"
   ]
  },
  {
   "cell_type": "code",
   "execution_count": null,
   "metadata": {
    "slideshow": {
     "slide_type": "skip"
    }
   },
   "outputs": [],
   "source": [
    "#groupby seller_id and agg to get percentage\n",
    "#     answer = overall.groupby(by=['product_id']).agg({\n",
    "\n",
    "#         'cost_of_review': 'sum',\n",
    "#         'review_score': lambda x: round(x.mean(),2)})"
   ]
  },
  {
   "cell_type": "code",
   "execution_count": 165,
   "metadata": {
    "slideshow": {
     "slide_type": "skip"
    }
   },
   "outputs": [],
   "source": [
    "by_product_id = prod.groupby('product_id').agg({\n",
    "    'seller_id':\n",
    "    'count',\n",
    "    'review_score':\n",
    "    lambda x: round(x.mean(), 2),\n",
    "    'cost_of_review':\n",
    "    'sum',\n",
    "    'cost':\n",
    "    'sum'\n",
    "})"
   ]
  },
  {
   "cell_type": "code",
   "execution_count": 166,
   "metadata": {
    "slideshow": {
     "slide_type": "skip"
    }
   },
   "outputs": [
    {
     "data": {
      "text/html": [
       "<div>\n",
       "<style scoped>\n",
       "    .dataframe tbody tr th:only-of-type {\n",
       "        vertical-align: middle;\n",
       "    }\n",
       "\n",
       "    .dataframe tbody tr th {\n",
       "        vertical-align: top;\n",
       "    }\n",
       "\n",
       "    .dataframe thead th {\n",
       "        text-align: right;\n",
       "    }\n",
       "</style>\n",
       "<table border=\"1\" class=\"dataframe\">\n",
       "  <thead>\n",
       "    <tr style=\"text-align: right;\">\n",
       "      <th></th>\n",
       "      <th>seller_id</th>\n",
       "      <th>review_score</th>\n",
       "      <th>cost_of_review</th>\n",
       "      <th>cost</th>\n",
       "    </tr>\n",
       "    <tr>\n",
       "      <th>product_id</th>\n",
       "      <th></th>\n",
       "      <th></th>\n",
       "      <th></th>\n",
       "      <th></th>\n",
       "    </tr>\n",
       "  </thead>\n",
       "  <tbody>\n",
       "    <tr>\n",
       "      <th>99a4788cb24856965c36a24e339b6058</th>\n",
       "      <td>461</td>\n",
       "      <td>3.90</td>\n",
       "      <td>9180</td>\n",
       "      <td>-5114.884</td>\n",
       "    </tr>\n",
       "    <tr>\n",
       "      <th>53759a2ecddad2bb87a079a1f1519f73</th>\n",
       "      <td>286</td>\n",
       "      <td>3.98</td>\n",
       "      <td>5730</td>\n",
       "      <td>-4166.550</td>\n",
       "    </tr>\n",
       "    <tr>\n",
       "      <th>7c1bd920dbdf22470b68bde975dd3ccf</th>\n",
       "      <td>227</td>\n",
       "      <td>3.87</td>\n",
       "      <td>5040</td>\n",
       "      <td>-3679.027</td>\n",
       "    </tr>\n",
       "    <tr>\n",
       "      <th>422879e10f46682990de24d770e7f83d</th>\n",
       "      <td>352</td>\n",
       "      <td>4.13</td>\n",
       "      <td>5520</td>\n",
       "      <td>-3593.500</td>\n",
       "    </tr>\n",
       "    <tr>\n",
       "      <th>e53e557d5a159f5aa2c5e995dfdf244b</th>\n",
       "      <td>153</td>\n",
       "      <td>3.53</td>\n",
       "      <td>4820</td>\n",
       "      <td>-3525.071</td>\n",
       "    </tr>\n",
       "    <tr>\n",
       "      <th>...</th>\n",
       "      <td>...</td>\n",
       "      <td>...</td>\n",
       "      <td>...</td>\n",
       "      <td>...</td>\n",
       "    </tr>\n",
       "    <tr>\n",
       "      <th>16c4e87b98a9370a9cbc3a4658a3f45b</th>\n",
       "      <td>13</td>\n",
       "      <td>4.31</td>\n",
       "      <td>100</td>\n",
       "      <td>2403.400</td>\n",
       "    </tr>\n",
       "    <tr>\n",
       "      <th>5f504b3a1c75b73d6151be81eb05bdc9</th>\n",
       "      <td>63</td>\n",
       "      <td>4.56</td>\n",
       "      <td>330</td>\n",
       "      <td>3443.390</td>\n",
       "    </tr>\n",
       "    <tr>\n",
       "      <th>6cdd53843498f92890544667809f1595</th>\n",
       "      <td>150</td>\n",
       "      <td>4.32</td>\n",
       "      <td>1690</td>\n",
       "      <td>3571.670</td>\n",
       "    </tr>\n",
       "    <tr>\n",
       "      <th>bb50f2e236e5eea0100680137654686c</th>\n",
       "      <td>187</td>\n",
       "      <td>4.21</td>\n",
       "      <td>2380</td>\n",
       "      <td>3744.500</td>\n",
       "    </tr>\n",
       "    <tr>\n",
       "      <th>d6160fb7873f184099d9bc95e30376af</th>\n",
       "      <td>35</td>\n",
       "      <td>4.57</td>\n",
       "      <td>250</td>\n",
       "      <td>4639.934</td>\n",
       "    </tr>\n",
       "  </tbody>\n",
       "</table>\n",
       "<p>32171 rows × 4 columns</p>\n",
       "</div>"
      ],
      "text/plain": [
       "                                  seller_id  review_score  cost_of_review  \\\n",
       "product_id                                                                  \n",
       "99a4788cb24856965c36a24e339b6058        461          3.90            9180   \n",
       "53759a2ecddad2bb87a079a1f1519f73        286          3.98            5730   \n",
       "7c1bd920dbdf22470b68bde975dd3ccf        227          3.87            5040   \n",
       "422879e10f46682990de24d770e7f83d        352          4.13            5520   \n",
       "e53e557d5a159f5aa2c5e995dfdf244b        153          3.53            4820   \n",
       "...                                     ...           ...             ...   \n",
       "16c4e87b98a9370a9cbc3a4658a3f45b         13          4.31             100   \n",
       "5f504b3a1c75b73d6151be81eb05bdc9         63          4.56             330   \n",
       "6cdd53843498f92890544667809f1595        150          4.32            1690   \n",
       "bb50f2e236e5eea0100680137654686c        187          4.21            2380   \n",
       "d6160fb7873f184099d9bc95e30376af         35          4.57             250   \n",
       "\n",
       "                                      cost  \n",
       "product_id                                  \n",
       "99a4788cb24856965c36a24e339b6058 -5114.884  \n",
       "53759a2ecddad2bb87a079a1f1519f73 -4166.550  \n",
       "7c1bd920dbdf22470b68bde975dd3ccf -3679.027  \n",
       "422879e10f46682990de24d770e7f83d -3593.500  \n",
       "e53e557d5a159f5aa2c5e995dfdf244b -3525.071  \n",
       "...                                    ...  \n",
       "16c4e87b98a9370a9cbc3a4658a3f45b  2403.400  \n",
       "5f504b3a1c75b73d6151be81eb05bdc9  3443.390  \n",
       "6cdd53843498f92890544667809f1595  3571.670  \n",
       "bb50f2e236e5eea0100680137654686c  3744.500  \n",
       "d6160fb7873f184099d9bc95e30376af  4639.934  \n",
       "\n",
       "[32171 rows x 4 columns]"
      ]
     },
     "execution_count": 166,
     "metadata": {},
     "output_type": "execute_result"
    }
   ],
   "source": [
    "by_product_id.sort_values('cost')"
   ]
  },
  {
   "cell_type": "code",
   "execution_count": 677,
   "metadata": {
    "scrolled": true,
    "slideshow": {
     "slide_type": "skip"
    }
   },
   "outputs": [
    {
     "name": "stdout",
     "output_type": "stream",
     "text": [
      "[NbConvertApp] Converting notebook Presentation.ipynb to slides\n",
      "[NbConvertApp] Writing 708701 bytes to Presentation.slides.html\n",
      "[NbConvertApp] Redirecting reveal.js requests to https://cdnjs.cloudflare.com/ajax/libs/reveal.js/3.5.0\n",
      "Serving your slides at http://127.0.0.1:8000/Presentation.slides.html\n",
      "Use Control-C to stop this server\n",
      "tcgetpgrp failed: Not a tty\n",
      "^C\n",
      "\n",
      "Interrupted\n"
     ]
    }
   ],
   "source": [
    "!jupyter nbconvert Presentation.ipynb --to slides --post serve \\\n",
    "--no-prompt \\\n",
    "--TagRemovePreprocessor.remove_input_tags=remove_input \\\n",
    "--TagRemovePreprocessor.remove_all_outputs_tags=remove_output"
   ]
  },
  {
   "cell_type": "code",
   "execution_count": null,
   "metadata": {
    "slideshow": {
     "slide_type": "skip"
    }
   },
   "outputs": [],
   "source": []
  }
 ],
 "metadata": {
  "celltoolbar": "Slideshow",
  "hide_input": false,
  "kernelspec": {
   "display_name": "Python 3 (ipykernel)",
   "language": "python",
   "name": "python3"
  },
  "language_info": {
   "codemirror_mode": {
    "name": "ipython",
    "version": 3
   },
   "file_extension": ".py",
   "mimetype": "text/x-python",
   "name": "python",
   "nbconvert_exporter": "python",
   "pygments_lexer": "ipython3",
   "version": "3.8.12"
  },
  "toc": {
   "base_numbering": 1,
   "nav_menu": {},
   "number_sections": true,
   "sideBar": true,
   "skip_h1_title": false,
   "title_cell": "Table of Contents",
   "title_sidebar": "Contents",
   "toc_cell": false,
   "toc_position": {},
   "toc_section_display": true,
   "toc_window_display": false
  }
 },
 "nbformat": 4,
 "nbformat_minor": 4
}
