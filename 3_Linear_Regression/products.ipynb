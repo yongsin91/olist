{
 "cells": [
  {
   "cell_type": "code",
   "execution_count": 1,
   "metadata": {},
   "outputs": [],
   "source": [
    "%load_ext autoreload\n",
    "%autoreload 2\n",
    "\n",
    "import numpy as np\n",
    "import pandas as pd\n",
    "import seaborn as sns\n",
    "import matplotlib.pyplot as plt\n",
    "import statsmodels.formula.api as smf"
   ]
  },
  {
   "cell_type": "markdown",
   "metadata": {},
   "source": [
    "# Products"
   ]
  },
  {
   "cell_type": "markdown",
   "metadata": {},
   "source": [
    "🎯 Our goal is to find `product categories` that repeatedly `underperform` vs. others, and understand the reasons behind."
   ]
  },
  {
   "cell_type": "markdown",
   "metadata": {},
   "source": [
    "## 1 - Code `olist/product.py` "
   ]
  },
  {
   "cell_type": "markdown",
   "metadata": {},
   "source": [
    "🎁 We gave you the solution to `product.py` in your challenge folder\n",
    "\n",
    "👉 `product.py` provides you with aggregated data for each `product_id` sold on Olist."
   ]
  },
  {
   "cell_type": "markdown",
   "metadata": {},
   "source": [
    "----\n",
    "The `get_training_data` method in `olist/product.py` returns a DataFrame with the following features:\n",
    "\n",
    "| feature_name                 \t| type  \t| description                                                               \t|\n",
    "|:------------------------------\t|:-------:\t|:---------------------------------------------------------------------------\t|\n",
    "| `product_id`                 \t| str   \t| id of the product **UNIQUE**                                              \t|\n",
    "| `category`                   \t| str   \t| category name (in English)                                                \t|\n",
    "| `product_name_length`        \t| float \t| number of characters of a product name                                    \t|\n",
    "| `product_description_length` \t| float \t| number of characters of a product description                             \t|\n",
    "| `product_photos_qty`         \t| int   \t| number of photos available for a product                                  \t|\n",
    "| `product_weight_g`           \t| float \t| weight of the product                                                     \t|\n",
    "| `product_length_cm`          \t| float \t| length of the product                                                     \t|\n",
    "| `product_height_cm`          \t| float \t| height of the product                                                     \t|\n",
    "| `product_width_cm`           \t| float \t| width of the product                                                      \t|\n",
    "| `price`                      \t| float \t| average price at which the product is sold                                \t|\n",
    "| `wait_time`                  \t| float \t| average wait time (in days) for orders in which the product was sold      \t|\n",
    "| `share_of_five_stars`        \t| float \t| share of five-star review_scores for orders in which the product was sold \t|\n",
    "| `share_of_one_stars`         \t| float \t| share of one-star review_scores for orders in which the product was sold  \t|\n",
    "| `review_score`               \t| float \t| average review score of the orders in which the product was sold          \t|\n",
    "| `n_orders`                   \t| int   \t| number of orders in which the product appears                             \t|\n",
    "| `quantity`                   \t| int   \t| total number of products sold for each product_id                         \t|\n",
    "| `sales`                      \t| int   \t| total sales (in BRL) for each product_id                                  \t|"
   ]
  },
  {
   "cell_type": "markdown",
   "metadata": {},
   "source": [
    "❓ **Take a first glimpse at the `product().get_training_data()` DataFrame** and make sure to understand what it represents, and how it has been coded"
   ]
  },
  {
   "cell_type": "code",
   "execution_count": 2,
   "metadata": {},
   "outputs": [
    {
     "data": {
      "text/html": [
       "<div>\n",
       "<style scoped>\n",
       "    .dataframe tbody tr th:only-of-type {\n",
       "        vertical-align: middle;\n",
       "    }\n",
       "\n",
       "    .dataframe tbody tr th {\n",
       "        vertical-align: top;\n",
       "    }\n",
       "\n",
       "    .dataframe thead th {\n",
       "        text-align: right;\n",
       "    }\n",
       "</style>\n",
       "<table border=\"1\" class=\"dataframe\">\n",
       "  <thead>\n",
       "    <tr style=\"text-align: right;\">\n",
       "      <th></th>\n",
       "      <th>product_id</th>\n",
       "      <th>product_name_length</th>\n",
       "      <th>product_description_length</th>\n",
       "      <th>product_photos_qty</th>\n",
       "      <th>product_weight_g</th>\n",
       "      <th>product_length_cm</th>\n",
       "      <th>product_height_cm</th>\n",
       "      <th>product_width_cm</th>\n",
       "      <th>category</th>\n",
       "      <th>wait_time</th>\n",
       "      <th>price</th>\n",
       "      <th>share_of_one_stars</th>\n",
       "      <th>share_of_five_stars</th>\n",
       "      <th>review_score</th>\n",
       "      <th>n_orders</th>\n",
       "      <th>quantity</th>\n",
       "      <th>sales</th>\n",
       "    </tr>\n",
       "  </thead>\n",
       "  <tbody>\n",
       "    <tr>\n",
       "      <th>0</th>\n",
       "      <td>1e9e8ef04dbcff4541ed26657ea517e5</td>\n",
       "      <td>40.0</td>\n",
       "      <td>287.0</td>\n",
       "      <td>1.0</td>\n",
       "      <td>225.0</td>\n",
       "      <td>16.0</td>\n",
       "      <td>10.0</td>\n",
       "      <td>14.0</td>\n",
       "      <td>perfumery</td>\n",
       "      <td>3.000000</td>\n",
       "      <td>10.910000</td>\n",
       "      <td>0.0</td>\n",
       "      <td>1.0</td>\n",
       "      <td>5.0</td>\n",
       "      <td>1</td>\n",
       "      <td>1</td>\n",
       "      <td>10.91</td>\n",
       "    </tr>\n",
       "    <tr>\n",
       "      <th>1</th>\n",
       "      <td>6a2fb4dd53d2cdb88e0432f1284a004c</td>\n",
       "      <td>39.0</td>\n",
       "      <td>346.0</td>\n",
       "      <td>2.0</td>\n",
       "      <td>400.0</td>\n",
       "      <td>27.0</td>\n",
       "      <td>5.0</td>\n",
       "      <td>20.0</td>\n",
       "      <td>perfumery</td>\n",
       "      <td>9.500000</td>\n",
       "      <td>16.900000</td>\n",
       "      <td>0.0</td>\n",
       "      <td>0.5</td>\n",
       "      <td>3.5</td>\n",
       "      <td>2</td>\n",
       "      <td>2</td>\n",
       "      <td>33.80</td>\n",
       "    </tr>\n",
       "    <tr>\n",
       "      <th>2</th>\n",
       "      <td>0d009643171aee696f4733340bc2fdd0</td>\n",
       "      <td>52.0</td>\n",
       "      <td>150.0</td>\n",
       "      <td>1.0</td>\n",
       "      <td>422.0</td>\n",
       "      <td>21.0</td>\n",
       "      <td>16.0</td>\n",
       "      <td>18.0</td>\n",
       "      <td>perfumery</td>\n",
       "      <td>13.444444</td>\n",
       "      <td>325.627273</td>\n",
       "      <td>0.2</td>\n",
       "      <td>0.4</td>\n",
       "      <td>3.7</td>\n",
       "      <td>10</td>\n",
       "      <td>11</td>\n",
       "      <td>3581.90</td>\n",
       "    </tr>\n",
       "    <tr>\n",
       "      <th>3</th>\n",
       "      <td>b1eae565a61935e0011ee7682fef9dc9</td>\n",
       "      <td>49.0</td>\n",
       "      <td>460.0</td>\n",
       "      <td>2.0</td>\n",
       "      <td>267.0</td>\n",
       "      <td>17.0</td>\n",
       "      <td>13.0</td>\n",
       "      <td>17.0</td>\n",
       "      <td>perfumery</td>\n",
       "      <td>21.000000</td>\n",
       "      <td>399.900000</td>\n",
       "      <td>0.0</td>\n",
       "      <td>0.0</td>\n",
       "      <td>2.0</td>\n",
       "      <td>1</td>\n",
       "      <td>1</td>\n",
       "      <td>399.90</td>\n",
       "    </tr>\n",
       "    <tr>\n",
       "      <th>4</th>\n",
       "      <td>8da90b37f0fb171b4877c124f965b1f6</td>\n",
       "      <td>56.0</td>\n",
       "      <td>733.0</td>\n",
       "      <td>3.0</td>\n",
       "      <td>377.0</td>\n",
       "      <td>18.0</td>\n",
       "      <td>13.0</td>\n",
       "      <td>15.0</td>\n",
       "      <td>perfumery</td>\n",
       "      <td>8.000000</td>\n",
       "      <td>137.900000</td>\n",
       "      <td>0.0</td>\n",
       "      <td>1.0</td>\n",
       "      <td>5.0</td>\n",
       "      <td>1</td>\n",
       "      <td>1</td>\n",
       "      <td>137.90</td>\n",
       "    </tr>\n",
       "  </tbody>\n",
       "</table>\n",
       "</div>"
      ],
      "text/plain": [
       "                         product_id  product_name_length  \\\n",
       "0  1e9e8ef04dbcff4541ed26657ea517e5                 40.0   \n",
       "1  6a2fb4dd53d2cdb88e0432f1284a004c                 39.0   \n",
       "2  0d009643171aee696f4733340bc2fdd0                 52.0   \n",
       "3  b1eae565a61935e0011ee7682fef9dc9                 49.0   \n",
       "4  8da90b37f0fb171b4877c124f965b1f6                 56.0   \n",
       "\n",
       "   product_description_length  product_photos_qty  product_weight_g  \\\n",
       "0                       287.0                 1.0             225.0   \n",
       "1                       346.0                 2.0             400.0   \n",
       "2                       150.0                 1.0             422.0   \n",
       "3                       460.0                 2.0             267.0   \n",
       "4                       733.0                 3.0             377.0   \n",
       "\n",
       "   product_length_cm  product_height_cm  product_width_cm   category  \\\n",
       "0               16.0               10.0              14.0  perfumery   \n",
       "1               27.0                5.0              20.0  perfumery   \n",
       "2               21.0               16.0              18.0  perfumery   \n",
       "3               17.0               13.0              17.0  perfumery   \n",
       "4               18.0               13.0              15.0  perfumery   \n",
       "\n",
       "   wait_time       price  share_of_one_stars  share_of_five_stars  \\\n",
       "0   3.000000   10.910000                 0.0                  1.0   \n",
       "1   9.500000   16.900000                 0.0                  0.5   \n",
       "2  13.444444  325.627273                 0.2                  0.4   \n",
       "3  21.000000  399.900000                 0.0                  0.0   \n",
       "4   8.000000  137.900000                 0.0                  1.0   \n",
       "\n",
       "   review_score  n_orders  quantity    sales  \n",
       "0           5.0         1         1    10.91  \n",
       "1           3.5         2         2    33.80  \n",
       "2           3.7        10        11  3581.90  \n",
       "3           2.0         1         1   399.90  \n",
       "4           5.0         1         1   137.90  "
      ]
     },
     "execution_count": 2,
     "metadata": {},
     "output_type": "execute_result"
    }
   ],
   "source": [
    "from olist.product import Product\n",
    "products = Product().get_training_data()\n",
    "products.head()"
   ]
  },
  {
   "cell_type": "markdown",
   "metadata": {
    "tags": []
   },
   "source": [
    "## 2 - Analysis per `product_id`\n",
    "\n",
    "🎯 Can we predict the average `review_score` per `product_id` ? "
   ]
  },
  {
   "cell_type": "markdown",
   "metadata": {},
   "source": [
    "👉 We inspect for you the new `Product().get_training_data()` dataframe, for instance by `plotting histograms of each variable` using `plt.hist()`. "
   ]
  },
  {
   "cell_type": "markdown",
   "metadata": {},
   "source": [
    "### (2.2) Predicting the  average `review_score` per `product_id`"
   ]
  },
  {
   "cell_type": "markdown",
   "metadata": {},
   "source": [
    "🚀 Model `review_score` with an `OLS`.\n",
    "\n",
    "👉  **Choose which continuous features you would like to use to predict the review score**\n",
    "\n",
    "* What is the $R^2$ of your model ❓\n",
    "* Among the feature you chose, which ones are the most important/significant ❓"
   ]
  },
  {
   "cell_type": "code",
   "execution_count": null,
   "metadata": {
    "tags": [
     "challengify"
    ]
   },
   "outputs": [],
   "source": [
    "# YOUR CODE HERE"
   ]
  },
  {
   "cell_type": "markdown",
   "metadata": {},
   "source": [
    "💡 Some features seem interesting:\n",
    "* `product_photos_qty` : the more pictures available, the more likely you will make the decision to purchase it\n",
    "* `product_volume_cm3` : it is faster to ship a smartphone cable than a convertible sofa...\n",
    "* `wait_time` : are Olist' customers patient ?\n",
    "* `price` : how does the price of a product influence a customer's satisfaction ?\n",
    "* `n_orders` : it might indicate whether a product is popular or not\n",
    "* `quantity` : same thing\n",
    "\n",
    "🤔 There may be some correlation between the quantity and the number of orders but let's run an OLS on these features now and see what outputs come out of it !\n",
    "\n",
    "👇 **Your turn: run the OLS with features shown above**"
   ]
  },
  {
   "cell_type": "code",
   "execution_count": null,
   "metadata": {
    "tags": [
     "challengify"
    ]
   },
   "outputs": [],
   "source": [
    "# YOUR CODE HERE"
   ]
  },
  {
   "cell_type": "markdown",
   "metadata": {},
   "source": [
    "### (2.3) Some insights based on our OLS 👇:"
   ]
  },
  {
   "cell_type": "markdown",
   "metadata": {},
   "source": [
    "<i><u>Note</u>: no questions in this section, it is dedicated to help you fully understand Linear Regressions and their interpretations</i>"
   ]
  },
  {
   "cell_type": "markdown",
   "metadata": {},
   "source": [
    "🎉 Almost all the p-values are lower than 5%, which means than almost all our coefficients are statistically significant !\n",
    "\n",
    "----\n",
    "\n",
    "ℹ️ The price has a small positive impact on the review score. Is it a psychological effect when customers do not want to admit a product is bad because they paid a certain amount of money on it ?\n",
    "\n",
    "----\n",
    "\n",
    "😮 The number of photos is apparently less important than expected, even if there should be a minimum.\n",
    "\n",
    "----\n",
    "\n",
    "😮 The quantity has apparently no impact, notice the large p-value of its coefficient, on the review score of a product according to this model...\n",
    "\n",
    "❗️ Let's not draw conclusions too quickly ❗️\n",
    "\n",
    "* *Example 1*: for smartphones, it's extremely important that a charging cable does not break after a few weeks, so in general on e-commerce platforms, a good quality cable is ordered a thousand times and has a high average review score\n",
    "\n",
    "* *Example 2* : for a product that belongs to a niche market, it can have a high average review score even if it was bought only a few times\n",
    "\n",
    "🧑🏻‍🏫 The lesson here is that even if your coefficients are significant, a model represents some kind of guidance for your business-related decisions ! Please also use your common sense !\n",
    "\n",
    "----\n",
    "\n",
    "ℹ️ The product volume does not seem to have a big impact on the review score... but still the impact is slightly negative.\n",
    "\n",
    "----\n",
    "\n",
    "🔴 The `wait_time` has a huge negative impact on the review_score. Customers do not like to wait even though they already know some products are longer to ship than others !\n"
   ]
  },
  {
   "cell_type": "markdown",
   "metadata": {},
   "source": [
    "## 3 - Analysis per `product category`"
   ]
  },
  {
   "cell_type": "markdown",
   "metadata": {},
   "source": [
    "### (3.1) Which products are mainly sold on Olist ? "
   ]
  },
  {
   "cell_type": "code",
   "execution_count": null,
   "metadata": {
    "tags": [
     "challengify"
    ]
   },
   "outputs": [],
   "source": [
    "# YOUR CODE HERE"
   ]
  },
  {
   "cell_type": "markdown",
   "metadata": {},
   "source": [
    "### (3.2) Build an aggregated dataframe with a `get_product_cat` function."
   ]
  },
  {
   "cell_type": "markdown",
   "metadata": {},
   "source": [
    "👉 Create a function `get_product_cat` which:\n",
    "* takes an `aggregating method as an argument` (choose the `mean` by default)\n",
    "* returns a DataFrame with:\n",
    "    * each `product_category`'s `quantity` summed \n",
    "    * all other numerical features aggregated by the chosen method.  \n",
    "\n",
    "\n",
    "    For instance get_product_cat('median') returns:\n",
    "\n",
    "      - `quantity` (sum)\n",
    "      - `wait_time` (median)\n",
    "      - `review_score` (median)\n",
    "      - `price` (median)\n",
    "      - ...."
   ]
  },
  {
   "cell_type": "code",
   "execution_count": null,
   "metadata": {
    "tags": [
     "challengify"
    ]
   },
   "outputs": [],
   "source": [
    "# YOUR CODE HERE"
   ]
  },
  {
   "cell_type": "code",
   "execution_count": null,
   "metadata": {},
   "outputs": [],
   "source": [
    "product_cat = get_product_cat(agg=\"mean\")\n",
    "product_cat.head()"
   ]
  },
  {
   "cell_type": "markdown",
   "metadata": {},
   "source": [
    "### Test code"
   ]
  },
  {
   "cell_type": "code",
   "execution_count": null,
   "metadata": {},
   "outputs": [],
   "source": [
    "from nbresult import ChallengeResult\n",
    "product_cat = get_product_cat('mean')\n",
    "result = ChallengeResult('products',\n",
    "    shape=product_cat.shape,\n",
    "    avg_review_score=int(product_cat['review_score'].mean()),\n",
    "    avg_price=int(product_cat['price'].mean()),\n",
    "    avg_quantity=int(product_cat['quantity'].mean())\n",
    ")\n",
    "result.write()\n",
    "print(result.check())"
   ]
  },
  {
   "cell_type": "markdown",
   "metadata": {},
   "source": [
    "### (3.3) 🧨 Product Category Analysis 🧨"
   ]
  },
  {
   "cell_type": "markdown",
   "metadata": {},
   "source": [
    "How many product categories does Olist have ❓"
   ]
  },
  {
   "cell_type": "code",
   "execution_count": null,
   "metadata": {
    "tags": [
     "challengify"
    ]
   },
   "outputs": [],
   "source": [
    "# YOUR CODE HERE"
   ]
  },
  {
   "cell_type": "markdown",
   "metadata": {},
   "source": [
    "💪 What are the best performing product categories ❓"
   ]
  },
  {
   "cell_type": "code",
   "execution_count": null,
   "metadata": {
    "tags": [
     "challengify"
    ]
   },
   "outputs": [],
   "source": [
    "# YOUR CODE HERE"
   ]
  },
  {
   "cell_type": "markdown",
   "metadata": {},
   "source": [
    "👎  What are the worst performing product categories ❓"
   ]
  },
  {
   "cell_type": "code",
   "execution_count": null,
   "metadata": {
    "tags": [
     "challengify"
    ]
   },
   "outputs": [],
   "source": [
    "# YOUR CODE HERE"
   ]
  },
  {
   "cell_type": "markdown",
   "metadata": {},
   "source": [
    "👀 Let's try to understand _why_ some categories are performing better than others. \n",
    "\n",
    "Using `plotly`, create different scatterplots, varying `x`, `y`, `color` and `size`, to find clues about factors impacting the `review_score`. \n",
    "\n",
    "- Do you notice some underperforming product categories?\n",
    "- Can you think about a strategy to improve Olist's profit margin as its CEO requested?\n",
    "\n",
    "<details>\n",
    "    <summary>Hints</summary>\n",
    "\n",
    "Plot `product_length_cm` against `wait_time`, with color as `review_score`, and bubble size as \"sales\" for instance\n",
    "    \n",
    "</details>"
   ]
  },
  {
   "cell_type": "code",
   "execution_count": null,
   "metadata": {
    "tags": [
     "challengify"
    ]
   },
   "outputs": [],
   "source": [
    "# YOUR CODE HERE"
   ]
  },
  {
   "cell_type": "markdown",
   "metadata": {},
   "source": [
    "### (3.4) Causal inference"
   ]
  },
  {
   "cell_type": "markdown",
   "metadata": {},
   "source": [
    "☝️ It seems that `large products` like `office_furniture` and `furniture_mattress_and_upholstery`, which happen to take longer to deliver, are performing worse than other products.\n",
    "\n",
    "🤔 Are consumers disappointed about these products or by the slow delivery time ❓ "
   ]
  },
  {
   "cell_type": "markdown",
   "metadata": {},
   "source": [
    "👉 Run an OLS to model `review_score` :\n",
    "* to isolate the real contribution of each product category on customer satisfaction, \n",
    "* by holding `wait_time` constant.\n",
    "\n",
    "<u>**Questions**</u>:\n",
    "\n",
    "1️⃣ Which dataset should you use for this regression: `product_cat` or the entire `products` training dataset ?\n",
    "\n",
    "2️⃣ Which independent variables / features should you use ?\n",
    "\n",
    "3️⃣ 🕵🏻 Investigate the results: which product categories correlate with a higher `review_score` (holding `wait_time` constant) ?\n",
    "\n",
    "🎁 Feel free to use `return_significative_coef(model)` function coded for you in `olist/utils.py`"
   ]
  },
  {
   "cell_type": "code",
   "execution_count": null,
   "metadata": {
    "tags": [
     "challengify"
    ]
   },
   "outputs": [],
   "source": [
    "# YOUR CODE HERE"
   ]
  },
  {
   "cell_type": "markdown",
   "metadata": {},
   "source": [
    "☝️ Furnitures are not in the list of significant coefficients! \n",
    "\n",
    "😉 The low review_score for furnitures may result from the delivery rather than the product itself! \n",
    "\n",
    "💡On the contrary, books are regularly driving higher reviews, even after accounting for generally quicker delivery time. \n",
    "\n",
    "---"
   ]
  },
  {
   "cell_type": "markdown",
   "metadata": {},
   "source": [
    "🏁 Congratulations with this final challenge! \n",
    "\n",
    "💾 Don't forget to commit and push your analysis :)"
   ]
  },
  {
   "cell_type": "code",
   "execution_count": null,
   "metadata": {},
   "outputs": [],
   "source": []
  },
  {
   "cell_type": "code",
   "execution_count": null,
   "metadata": {},
   "outputs": [],
   "source": []
  }
 ],
 "metadata": {
  "kernelspec": {
   "display_name": "Python 3 (ipykernel)",
   "language": "python",
   "name": "python3"
  },
  "language_info": {
   "codemirror_mode": {
    "name": "ipython",
    "version": 3
   },
   "file_extension": ".py",
   "mimetype": "text/x-python",
   "name": "python",
   "nbconvert_exporter": "python",
   "pygments_lexer": "ipython3",
   "version": "3.8.12"
  },
  "toc": {
   "base_numbering": 1,
   "nav_menu": {},
   "number_sections": true,
   "sideBar": true,
   "skip_h1_title": false,
   "title_cell": "Table of Contents",
   "title_sidebar": "Contents",
   "toc_cell": false,
   "toc_position": {},
   "toc_section_display": true,
   "toc_window_display": false
  }
 },
 "nbformat": 4,
 "nbformat_minor": 4
}
