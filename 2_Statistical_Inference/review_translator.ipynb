{
 "cells": [
  {
   "cell_type": "markdown",
   "metadata": {},
   "source": [
    "# Olist reviews' - Translations...\n",
    "\n",
    "* The `order_reviews` are translated from Brazilian Portugese to 🇬🇧 English"
   ]
  },
  {
   "cell_type": "markdown",
   "metadata": {},
   "source": [
    "## Review Translator"
   ]
  },
  {
   "cell_type": "markdown",
   "metadata": {},
   "source": [
    "👉 Load the `reviews` and select a sample of rewiews associated to a one-star rating"
   ]
  },
  {
   "cell_type": "code",
   "execution_count": 5,
   "metadata": {},
   "outputs": [],
   "source": [
    "# Modules are imported\n",
    "import translators as ts\n",
    "\n",
    "#Data is loaded\n",
    "from olist.data import Olist"
   ]
  },
  {
   "cell_type": "markdown",
   "metadata": {},
   "source": [
    "👀 Select a sample of 20 low scores reviews (randomly) and convert it into a list."
   ]
  },
  {
   "cell_type": "code",
   "execution_count": 14,
   "metadata": {
    "tags": [
     "challengify"
    ]
   },
   "outputs": [],
   "source": [
    "data = Olist().get_data()"
   ]
  },
  {
   "cell_type": "markdown",
   "metadata": {},
   "source": [
    "🗣 Translate these reviews using the `google_translator` package you've previously installed before starting this challenge:"
   ]
  },
  {
   "cell_type": "code",
   "execution_count": 13,
   "metadata": {
    "tags": [
     "challengify"
    ]
   },
   "outputs": [],
   "source": [
    "reviews = data[\"order_reviews\"]\n",
    "\n",
    "one_star_reviews = reviews[(reviews[\"review_score\"] == 1) & (~reviews[\"review_comment_message\"].isna())]"
   ]
  },
  {
   "cell_type": "markdown",
   "metadata": {},
   "source": [
    "A sample of 50 low scores reviews are selected (randomly) and converted into a list."
   ]
  },
  {
   "cell_type": "code",
   "execution_count": 15,
   "metadata": {},
   "outputs": [],
   "source": [
    "resampled_reviews = one_star_reviews.sample(50).reset_index(drop = True)[\"review_comment_message\"]\n",
    "\n",
    "resampled_reviews_list = [item for i, item in enumerate(resampled_reviews)]"
   ]
  },
  {
   "cell_type": "code",
   "execution_count": 16,
   "metadata": {},
   "outputs": [
    {
     "name": "stdout",
     "output_type": "stream",
     "text": [
      "The days waiting and has not arrived yet. \n",
      " How do we solve?\n",
      "The product has not arrived within the promised deadline.\n",
      "The product came with wrong holes for assembly. Unfortunately the chair will not last 3 months of use. No more products to set up on the internet anymore.\n",
      "I ordered 3 units of the product, only 2 units were delivered\n",
      "I made a purchase in February 2018. The deadline informed on the site was that the delivery would occur until 03/22/2018. To this day the product has not arrived at the mail agency. How should I proceed?\n",
      "I HAVE NOT RECEIVED THE PRODUCT\n",
      "Buy Karsten towels and I received a game of pessimal quality towels, I need to return this merchandise.\n",
      "I received the defective product, one on the sides of the phone do not work\n",
      "My order was a field soccer ball as specified above, but they gave me a futsal ball, I didn't play futsal, I thought it was wrong, but the error was from the store.\n",
      "There is a great difficulty in contacting the supplier to solve any problem.\n",
      "Hello, very upset Véio Wrong the product, is trying to change but with you ... because when I enter the site ñ completes my request ... please need a solution.\n",
      "not yet received!\n",
      "The product is broken\n",
      "The product is wrong not to be in accordance with the description of sale and I can not talk about the number of SAC to claim and exchange the product\n",
      "I haven't received my product yet and I want to know how the delivery is. I'm thinking of canceling the purchase.\n",
      "Despite delivering on time, this deadline is very long, I do not recommend, besides shipping is absurd.\n",
      "So far I have not received my product. I try to contact Lannister stores and I can't. The Post Office website, a company hired for delivery, has not updated the delivery status since day 1\n",
      "I always buy never had a problem. The shirts purchased, received and returned were three machines. I'm currently choosing others to use the valley.\n",
      "The company did not deliver the product, Lannister sent email stating that the company will not deliver the product and can not cancel the purchase.\n",
      "Very thin fabric and not stop in the box, slips as it moves the mattress\n",
      "The macaws are good, but I did not receive the hangers of the same request.\n",
      "They said the product had in stock and after the purchase had no longer the product. Which led to a disorder and a huge discomfort to me.\n",
      "Defective product.\n",
      "Partner Lannister (Targaryen) has canceled the purchase and to date Lannister did not tell me how I should proceed to refund the amount paid.\n",
      "I cannot say that I do not recommend the store, because I believe the problem in delivery was with the carrier (post office). I would not fail to buy with the store because of this delivery problem.\n",
      "I received the product. But when I went to charge the battery inflated and let out the back cover. summing up. I didn't even use the product and already gave problem.\n",
      "It is already the second purchase I do not receive.\n",
      "The delivery forecast would be for up to 12/12/17, and so far has not been delivered!\n",
      "In addition to paying shipping, I had to go to a post office to withdraw and even handed me 1 item. QDO IN VDD I paid for 2\n",
      "I received only part of the order as I bought two units of the drawer and received only one unit.\n",
      "I'm very upset, because I bought a carpet and I didn't get it, I'm trying to solve the issue\n",
      "I bought copper bed and received sheet as if it were quilt I was sad. I'm trying to push the purchase or return product or change no one returns contact.\n",
      "I requested the cancellation of the purchase and got no return, the product arrived not and what I would like, was a frustrated purchase for me\n",
      "I didn't get both quilts I'm without the fantasy quilt\n",
      "Another product came\n",
      "The product did not come in blue but in white that was not the desired color\n",
      "Still missing a product I bought everything on the same day and arrive in one by one\n",
      "Dear; \n",
      " To date, the product has not been delivered to me. I would like to know what measures Lannisters.com will take, so that I do not get to the loss. It was my first purchase (to test) the store.\n",
      "I made the purchase, and did not deliver !!! I'm canceling and hope to be refunded.\n",
      "I am super dissatisfied, I needed the urgent material and I only bought because Lannister stores never had a problem, since the supplier I do not say the same. Had no commitment.\n",
      "I didn't arrive I'm waiting\n",
      "Very bad film cell phone mere the screen with it\n",
      "I did not receive my product, and was posted in the mail on 24/11 and the last update was on 11/12 warning that my order did not arrive at the unit!\n",
      "Good morning I kindly ask you, canceled product did not arrive, and no post office warning, I had to travel, I ask you to be canceled and reversed value. \n",
      " Liliane.\n",
      "The site is good but I did not receive all products.\n",
      "I am waiting for my product that is not enough is late and I can not speak with responsible ...\n",
      "the product has not arrived.\n",
      "Product has not yet arrived.\n",
      "I am still waiting for the product that was expected to be delivered on 22/08/2017 and today 08/24/2017 has not yet arrived until the moment.\n",
      "Did not deliver the purchased sheets\n"
     ]
    }
   ],
   "source": [
    "translated_text_list = []\n",
    "\n",
    "for item in resampled_reviews_list:\n",
    "    translation = ts.google(item, from_language = \"pt\", to_language = \"en\")\n",
    "    translated_text_list.append(translation)\n",
    "    print(translation)"
   ]
  },
  {
   "cell_type": "markdown",
   "metadata": {},
   "source": [
    "**Insights** 💡\n",
    "- Some bad reviews are linked to the delivery (`wait_time`, missed deadline,  etc...)\n",
    "- But some bad reviews are linked to the seller or the product...\n",
    "\n",
    "How can we differentiate between the two possible causes?\n",
    "\n",
    "That's something important Olist needs to know:\n",
    "- should we remove some products from the catalogue?\n",
    "- or remove some sellers from their marketplace?\n",
    "\n",
    "🗓 Agenda:\n",
    "\n",
    "* 🗣 `Natural Language Processing` algorithms will be used to extract some information about these reviews\n"
   ]
  },
  {
   "cell_type": "code",
   "execution_count": null,
   "metadata": {},
   "outputs": [],
   "source": []
  }
 ],
 "metadata": {
  "hide_input": false,
  "kernelspec": {
   "display_name": "Python 3 (ipykernel)",
   "language": "python",
   "name": "python3"
  },
  "language_info": {
   "codemirror_mode": {
    "name": "ipython",
    "version": 3
   },
   "file_extension": ".py",
   "mimetype": "text/x-python",
   "name": "python",
   "nbconvert_exporter": "python",
   "pygments_lexer": "ipython3",
   "version": "3.8.12"
  },
  "toc": {
   "base_numbering": 1,
   "nav_menu": {},
   "number_sections": true,
   "sideBar": true,
   "skip_h1_title": false,
   "title_cell": "Table of Contents",
   "title_sidebar": "Contents",
   "toc_cell": false,
   "toc_position": {},
   "toc_section_display": true,
   "toc_window_display": false
  }
 },
 "nbformat": 4,
 "nbformat_minor": 4
}
