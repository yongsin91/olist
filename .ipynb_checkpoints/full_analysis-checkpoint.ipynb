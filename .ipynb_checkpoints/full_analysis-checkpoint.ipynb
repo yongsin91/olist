{
 "cells": [
  {
   "cell_type": "markdown",
   "metadata": {},
   "source": [
    "# Final Analysis"
   ]
  },
  {
   "cell_type": "markdown",
   "metadata": {},
   "source": [
    "## 1. Problem statement (summarized)\n",
    "\n",
    ">❓ How should Olist improve its profit margin ❓, given that it has \n",
    "> - some revenues per sellers per months\n",
    "> - some revenues per orders\n",
    "> - some reputation costs (estimated) per bad reviews\n",
    "> - some operational costs of IT system that grows with number of orders, but not linearly (scale effects)\n",
    "\n",
    "\n",
    "Our key findings so far :\n",
    "- The `wait_time` was the most significant factor behind low review scores, but reading comments of the bad reviews also showed that some of them were linked to the seller or to the product itself.\n",
    "- `wait_time` is made up of seller's `delay_to_carrier` + `carrier_delivery_time`. The latter being outside of Olist's direct control, improving it is not a quick-win recommendation we can make to Olist CEO without in-depth analysis of their operational practices.\n",
    "- On the contrary, a better selection of `sellers` can positively impact the `delay_to_carrier` and reduce the number of bad `review_scores` on Olist."
   ]
  },
  {
   "cell_type": "markdown",
   "metadata": {},
   "source": [
    "### 1.1 **Should All underperforming sellers be removed from its marketplace ?** 🕵🏻"
   ]
  },
  {
   "cell_type": "markdown",
   "metadata": {},
   "source": [
    "To analyse and confirm the impact of removing the worse sellers from Olist's marketplace, we will perform a what-if analysis: What would have happened if Olist had never accepted these sellers in the first place?\n",
    "\n",
    "1️⃣ First, we'll compute and assess, for each `seller_id`, and cumulated since the beginning:\n",
    "- the `revenues` it brings\n",
    "- the `costs` associated with all its bad reviews\n",
    "- the resulting `profits` (revenues - costs)\n",
    "- the number of `orders` (it will impact the overall IT costs)\n",
    "\n",
    "\n",
    "2️⃣ Next, we will:\n",
    "- sort sellers by increasing profits for Olist\n",
    "- for each number of sellers to remove, compute the financial impact it would have made if they had never been accepted on the platform and find an optimal number of sellers to remove that maximizes Olist's profit margin\n"
   ]
  },
  {
   "cell_type": "markdown",
   "metadata": {},
   "source": [
    "## Seller_id computation"
   ]
  },
  {
   "cell_type": "markdown",
   "metadata": {},
   "source": [
    "### Association for the cost of bad reviews"
   ]
  },
  {
   "cell_type": "markdown",
   "metadata": {},
   "source": [
    "Although we can quantify reputation of Olist by roughly aggregating overall star reviews of all seller on the platform, it is hard to attribute the impact of negative reviews with the actual profit loss of Olist. In this scenario, we've assigned a penalty cost incurred due to the negative impacts of the reviews for each order to each individual seller in order to quantify the loss due to the amount of negative reviews received."
   ]
  },
  {
   "cell_type": "markdown",
   "metadata": {},
   "source": [
    "Additional cost of the reviews on each individual seller are as follows:\n",
    "- 1 star : 100 BRLs\n",
    "- 2 star : 50 BRLs\n",
    "- 3 star : 40 BRLs\n",
    "- 4 star : 0 BRLs\n",
    "- 5 star : 0 BRLs"
   ]
  },
  {
   "cell_type": "code",
   "execution_count": 1,
   "metadata": {},
   "outputs": [],
   "source": [
    "from olist.seller_updated import Seller\n",
    "import numpy as np\n",
    "import pandas as pd\n",
    "import matplotlib.pyplot as plt\n",
    "import seaborn as sns"
   ]
  },
  {
   "cell_type": "code",
   "execution_count": 113,
   "metadata": {},
   "outputs": [
    {
     "data": {
      "text/html": [
       "<div>\n",
       "<style scoped>\n",
       "    .dataframe tbody tr th:only-of-type {\n",
       "        vertical-align: middle;\n",
       "    }\n",
       "\n",
       "    .dataframe tbody tr th {\n",
       "        vertical-align: top;\n",
       "    }\n",
       "\n",
       "    .dataframe thead th {\n",
       "        text-align: right;\n",
       "    }\n",
       "</style>\n",
       "<table border=\"1\" class=\"dataframe\">\n",
       "  <thead>\n",
       "    <tr style=\"text-align: right;\">\n",
       "      <th></th>\n",
       "      <th>seller_id</th>\n",
       "      <th>seller_city</th>\n",
       "      <th>seller_state</th>\n",
       "      <th>delay_to_carrier</th>\n",
       "      <th>wait_time</th>\n",
       "      <th>date_first_sale</th>\n",
       "      <th>date_last_sale</th>\n",
       "      <th>months_on_olist</th>\n",
       "      <th>share_of_one_stars</th>\n",
       "      <th>share_of_five_stars</th>\n",
       "      <th>review_score</th>\n",
       "      <th>cost_of_reviews</th>\n",
       "      <th>n_orders</th>\n",
       "      <th>quantity</th>\n",
       "      <th>quantity_per_order</th>\n",
       "      <th>sales</th>\n",
       "      <th>revenues</th>\n",
       "      <th>profits</th>\n",
       "    </tr>\n",
       "  </thead>\n",
       "  <tbody>\n",
       "    <tr>\n",
       "      <th>0</th>\n",
       "      <td>3442f8959a84dea7ee197c632cb2df15</td>\n",
       "      <td>campinas</td>\n",
       "      <td>SP</td>\n",
       "      <td>0.0</td>\n",
       "      <td>13.018588</td>\n",
       "      <td>2017-05-05 16:25:11</td>\n",
       "      <td>2017-08-30 12:50:19</td>\n",
       "      <td>4.0</td>\n",
       "      <td>0.333333</td>\n",
       "      <td>0.333333</td>\n",
       "      <td>3.00</td>\n",
       "      <td>140</td>\n",
       "      <td>3</td>\n",
       "      <td>3</td>\n",
       "      <td>1.000</td>\n",
       "      <td>218.70</td>\n",
       "      <td>341.870</td>\n",
       "      <td>201.870</td>\n",
       "    </tr>\n",
       "    <tr>\n",
       "      <th>1</th>\n",
       "      <td>d1b65fc7debc3361ea86b5f14c68d2e2</td>\n",
       "      <td>mogi guacu</td>\n",
       "      <td>SP</td>\n",
       "      <td>0.0</td>\n",
       "      <td>9.065716</td>\n",
       "      <td>2017-03-29 02:10:34</td>\n",
       "      <td>2018-06-06 20:15:21</td>\n",
       "      <td>14.0</td>\n",
       "      <td>0.050000</td>\n",
       "      <td>0.725000</td>\n",
       "      <td>4.55</td>\n",
       "      <td>240</td>\n",
       "      <td>40</td>\n",
       "      <td>41</td>\n",
       "      <td>1.025</td>\n",
       "      <td>11703.07</td>\n",
       "      <td>2290.307</td>\n",
       "      <td>2050.307</td>\n",
       "    </tr>\n",
       "    <tr>\n",
       "      <th>2</th>\n",
       "      <td>ce3ad9de960102d0677a81f5d0bb7b2d</td>\n",
       "      <td>rio de janeiro</td>\n",
       "      <td>RJ</td>\n",
       "      <td>0.0</td>\n",
       "      <td>4.042292</td>\n",
       "      <td>2018-07-30 12:44:49</td>\n",
       "      <td>2018-07-30 12:44:49</td>\n",
       "      <td>0.0</td>\n",
       "      <td>0.000000</td>\n",
       "      <td>1.000000</td>\n",
       "      <td>5.00</td>\n",
       "      <td>0</td>\n",
       "      <td>1</td>\n",
       "      <td>1</td>\n",
       "      <td>1.000</td>\n",
       "      <td>158.00</td>\n",
       "      <td>15.800</td>\n",
       "      <td>15.800</td>\n",
       "    </tr>\n",
       "  </tbody>\n",
       "</table>\n",
       "</div>"
      ],
      "text/plain": [
       "                          seller_id     seller_city seller_state  \\\n",
       "0  3442f8959a84dea7ee197c632cb2df15        campinas           SP   \n",
       "1  d1b65fc7debc3361ea86b5f14c68d2e2      mogi guacu           SP   \n",
       "2  ce3ad9de960102d0677a81f5d0bb7b2d  rio de janeiro           RJ   \n",
       "\n",
       "   delay_to_carrier  wait_time     date_first_sale      date_last_sale  \\\n",
       "0               0.0  13.018588 2017-05-05 16:25:11 2017-08-30 12:50:19   \n",
       "1               0.0   9.065716 2017-03-29 02:10:34 2018-06-06 20:15:21   \n",
       "2               0.0   4.042292 2018-07-30 12:44:49 2018-07-30 12:44:49   \n",
       "\n",
       "   months_on_olist  share_of_one_stars  share_of_five_stars  review_score  \\\n",
       "0              4.0            0.333333             0.333333          3.00   \n",
       "1             14.0            0.050000             0.725000          4.55   \n",
       "2              0.0            0.000000             1.000000          5.00   \n",
       "\n",
       "   cost_of_reviews  n_orders  quantity  quantity_per_order     sales  \\\n",
       "0              140         3         3               1.000    218.70   \n",
       "1              240        40        41               1.025  11703.07   \n",
       "2                0         1         1               1.000    158.00   \n",
       "\n",
       "   revenues   profits  \n",
       "0   341.870   201.870  \n",
       "1  2290.307  2050.307  \n",
       "2    15.800    15.800  "
      ]
     },
     "execution_count": 113,
     "metadata": {},
     "output_type": "execute_result"
    }
   ],
   "source": [
    "# get dataframe \n",
    "sellers_info = Seller().get_training_data()\n",
    "sellers_info.head(3)"
   ]
  },
  {
   "cell_type": "code",
   "execution_count": 114,
   "metadata": {},
   "outputs": [
    {
     "name": "stdout",
     "output_type": "stream",
     "text": [
      "Total Profit of All Sellers to Date : 1167608.44 BRLs\n"
     ]
    }
   ],
   "source": [
    "#Total profits brought in by sellers\n",
    "print(f'Total Profit of All Sellers to Date : {round(sellers_info[\"profits\"].sum(),2)} BRLs')"
   ]
  },
  {
   "cell_type": "markdown",
   "metadata": {},
   "source": [
    "The operational IT cost is estimated to be not of a linear scale, but of $\\sqrt{x}$ of the total number of orders. This is to reflect the high initial setup cost for IT and its cost down effect."
   ]
  },
  {
   "cell_type": "code",
   "execution_count": 123,
   "metadata": {},
   "outputs": [
    {
     "name": "stdout",
     "output_type": "stream",
     "text": [
      "Average Operational IT cost per order to date will be 41.98 BRLs\n"
     ]
    },
    {
     "data": {
      "text/html": [
       "<div>\n",
       "<style scoped>\n",
       "    .dataframe tbody tr th:only-of-type {\n",
       "        vertical-align: middle;\n",
       "    }\n",
       "\n",
       "    .dataframe tbody tr th {\n",
       "        vertical-align: top;\n",
       "    }\n",
       "\n",
       "    .dataframe thead th {\n",
       "        text-align: right;\n",
       "    }\n",
       "</style>\n",
       "<table border=\"1\" class=\"dataframe\">\n",
       "  <thead>\n",
       "    <tr style=\"text-align: right;\">\n",
       "      <th></th>\n",
       "      <th>seller_id</th>\n",
       "      <th>seller_city</th>\n",
       "      <th>seller_state</th>\n",
       "      <th>delay_to_carrier</th>\n",
       "      <th>wait_time</th>\n",
       "      <th>date_first_sale</th>\n",
       "      <th>date_last_sale</th>\n",
       "      <th>months_on_olist</th>\n",
       "      <th>share_of_one_stars</th>\n",
       "      <th>share_of_five_stars</th>\n",
       "      <th>review_score</th>\n",
       "      <th>cost_of_reviews</th>\n",
       "      <th>n_orders</th>\n",
       "      <th>quantity</th>\n",
       "      <th>quantity_per_order</th>\n",
       "      <th>sales</th>\n",
       "      <th>revenues</th>\n",
       "      <th>profits</th>\n",
       "      <th>IT_cost</th>\n",
       "      <th>net_profit</th>\n",
       "    </tr>\n",
       "  </thead>\n",
       "  <tbody>\n",
       "    <tr>\n",
       "      <th>0</th>\n",
       "      <td>3442f8959a84dea7ee197c632cb2df15</td>\n",
       "      <td>campinas</td>\n",
       "      <td>SP</td>\n",
       "      <td>0.0</td>\n",
       "      <td>13.018588</td>\n",
       "      <td>2017-05-05 16:25:11</td>\n",
       "      <td>2017-08-30 12:50:19</td>\n",
       "      <td>4.0</td>\n",
       "      <td>0.333333</td>\n",
       "      <td>0.333333</td>\n",
       "      <td>3.00</td>\n",
       "      <td>140</td>\n",
       "      <td>3</td>\n",
       "      <td>3</td>\n",
       "      <td>1.000</td>\n",
       "      <td>218.70</td>\n",
       "      <td>341.870</td>\n",
       "      <td>201.870</td>\n",
       "      <td>72.706398</td>\n",
       "      <td>129.163602</td>\n",
       "    </tr>\n",
       "    <tr>\n",
       "      <th>1</th>\n",
       "      <td>d1b65fc7debc3361ea86b5f14c68d2e2</td>\n",
       "      <td>mogi guacu</td>\n",
       "      <td>SP</td>\n",
       "      <td>0.0</td>\n",
       "      <td>9.065716</td>\n",
       "      <td>2017-03-29 02:10:34</td>\n",
       "      <td>2018-06-06 20:15:21</td>\n",
       "      <td>14.0</td>\n",
       "      <td>0.050000</td>\n",
       "      <td>0.725000</td>\n",
       "      <td>4.55</td>\n",
       "      <td>240</td>\n",
       "      <td>40</td>\n",
       "      <td>41</td>\n",
       "      <td>1.025</td>\n",
       "      <td>11703.07</td>\n",
       "      <td>2290.307</td>\n",
       "      <td>2050.307</td>\n",
       "      <td>265.486228</td>\n",
       "      <td>1784.820772</td>\n",
       "    </tr>\n",
       "    <tr>\n",
       "      <th>2</th>\n",
       "      <td>ce3ad9de960102d0677a81f5d0bb7b2d</td>\n",
       "      <td>rio de janeiro</td>\n",
       "      <td>RJ</td>\n",
       "      <td>0.0</td>\n",
       "      <td>4.042292</td>\n",
       "      <td>2018-07-30 12:44:49</td>\n",
       "      <td>2018-07-30 12:44:49</td>\n",
       "      <td>0.0</td>\n",
       "      <td>0.000000</td>\n",
       "      <td>1.000000</td>\n",
       "      <td>5.00</td>\n",
       "      <td>0</td>\n",
       "      <td>1</td>\n",
       "      <td>1</td>\n",
       "      <td>1.000</td>\n",
       "      <td>158.00</td>\n",
       "      <td>15.800</td>\n",
       "      <td>15.800</td>\n",
       "      <td>41.977058</td>\n",
       "      <td>-26.177058</td>\n",
       "    </tr>\n",
       "  </tbody>\n",
       "</table>\n",
       "</div>"
      ],
      "text/plain": [
       "                          seller_id     seller_city seller_state  \\\n",
       "0  3442f8959a84dea7ee197c632cb2df15        campinas           SP   \n",
       "1  d1b65fc7debc3361ea86b5f14c68d2e2      mogi guacu           SP   \n",
       "2  ce3ad9de960102d0677a81f5d0bb7b2d  rio de janeiro           RJ   \n",
       "\n",
       "   delay_to_carrier  wait_time     date_first_sale      date_last_sale  \\\n",
       "0               0.0  13.018588 2017-05-05 16:25:11 2017-08-30 12:50:19   \n",
       "1               0.0   9.065716 2017-03-29 02:10:34 2018-06-06 20:15:21   \n",
       "2               0.0   4.042292 2018-07-30 12:44:49 2018-07-30 12:44:49   \n",
       "\n",
       "   months_on_olist  share_of_one_stars  share_of_five_stars  review_score  \\\n",
       "0              4.0            0.333333             0.333333          3.00   \n",
       "1             14.0            0.050000             0.725000          4.55   \n",
       "2              0.0            0.000000             1.000000          5.00   \n",
       "\n",
       "   cost_of_reviews  n_orders  quantity  quantity_per_order     sales  \\\n",
       "0              140         3         3               1.000    218.70   \n",
       "1              240        40        41               1.025  11703.07   \n",
       "2                0         1         1               1.000    158.00   \n",
       "\n",
       "   revenues   profits     IT_cost   net_profit  \n",
       "0   341.870   201.870   72.706398   129.163602  \n",
       "1  2290.307  2050.307  265.486228  1784.820772  \n",
       "2    15.800    15.800   41.977058   -26.177058  "
      ]
     },
     "execution_count": 123,
     "metadata": {},
     "output_type": "execute_result"
    }
   ],
   "source": [
    "sell_cal = sellers_info.copy()\n",
    "sell_cal['revenues']= sell_cal['sales']*0.1+80*sell_cal['months_on_olist']\n",
    "\n",
    "# average IT cost per order can be calculated by dividing overall operation IT cost by the total amount of orders\n",
    "#y = IT_g * sqrt(x)\n",
    "IT_g = 500000/np.sqrt(sell_cal['n_orders']).sum()\n",
    "print(f\"Average Operational IT cost per order to date will be {round(IT_g,2)} BRLs\")\n",
    "sell_cal['IT_cost'] =  np.sqrt(sell_cal[\"n_orders\"]) * IT_g\n",
    "sell_cal['net_profit']= sell_cal['profits'] - sell_cal['IT_cost']\n",
    "sell_cal.head(3)"
   ]
  },
  {
   "cell_type": "markdown",
   "metadata": {},
   "source": [
    "The profit of each sellers is the deduction of its revenues with the IT cost and the additional cost incurred due to negative reviews that it receives. We'll then sort the sellers by the profit they bring to Olist and plot them out to see the trend."
   ]
  },
  {
   "cell_type": "code",
   "execution_count": 125,
   "metadata": {},
   "outputs": [
    {
     "data": {
      "image/png": "[encoded data removed]",
      "text/plain": [
       "<Figure size 1080x432 with 1 Axes>"
      ]
     },
     "metadata": {
      "needs_background": "light"
     },
     "output_type": "display_data"
    }
   ],
   "source": [
    "#Sorting sellers according to the profits \n",
    "sellers_by_profits = sell_cal.sort_values(by = \"net_profit\")[\"net_profit\"].reset_index()\n",
    "\n",
    "#Visualizing the sellers according to the sorted profits; the sellers which brings in the least profits/most losses on the left,\n",
    "#and sellers with the most profits on the right\n",
    "plt.figure(figsize = (15, 6))\n",
    "sns.histplot(sellers_by_profits[\"net_profit\"])\n",
    "plt.title(\"Profits vs Sellers\")\n",
    "plt.xlim(-5000,5000)\n",
    "plt.xlabel(\"Olist Profits\")\n",
    "plt.ylabel(\"Quantity of sellers\");"
   ]
  },
  {
   "cell_type": "markdown",
   "metadata": {},
   "source": [
    "As from both the graph above, it is shown that some sellers causes Olist to lose profit instead. We will confirm the profit difference if all the sellers that causes profit loss are removed."
   ]
  },
  {
   "cell_type": "code",
   "execution_count": 126,
   "metadata": {},
   "outputs": [
    {
     "data": {
      "image/png": "[encoded data removed]",
      "text/plain": [
       "<Figure size 504x504 with 1 Axes>"
      ]
     },
     "metadata": {
      "needs_background": "light"
     },
     "output_type": "display_data"
    }
   ],
   "source": [
    "# Compute the overall profits before and after eliminating under-performing sellers\n",
    "profit_include = sell_cal['net_profit'].sum()\n",
    "profit_exclude = sell_cal[sell_cal['net_profit'] > 0]['net_profit'].sum()\n",
    "values = [profit_include,profit_exclude]\n",
    "profits = ['profit_include', 'profit_exclude']\n",
    "\n",
    "# plot the chart to visualize before and after eliminating under-performing sellers. \n",
    "plt.figure(figsize=(7,7))\n",
    "plt.bar(profits,values)\n",
    "\n",
    "# Labels for bar chart\n",
    "def labels(profits):\n",
    "    for i in range(len(profits)):\n",
    "        plt.text(i,profits[i],profits[i], ha = 'center',\n",
    "                 bbox = dict(facecolor = \"white\", alpha =0.7))\n",
    "        \n",
    "plt.xlabel(\"Profit Evaluation\")\n",
    "plt.ylabel(\"Profit\")\n",
    "plt.title(\"Profits before and after eliminating underperforming sellers\")\n",
    "plt.ticklabel_format(style='plain', axis='y')\n",
    "labels([np.round(x,2) for x in values])\n",
    "plt.show()"
   ]
  },
  {
   "cell_type": "code",
   "execution_count": 127,
   "metadata": {},
   "outputs": [
    {
     "name": "stdout",
     "output_type": "stream",
     "text": [
      "Profit before removing certain sellers: 667608.44 BRLs\n",
      "Profit after removing certain sellers: 1112157.66 BRLs\n",
      "Profit gained from removing sellers that reduces profit will be around 444549.21 BRLs (increases by 67.0%)\n"
     ]
    }
   ],
   "source": [
    "# difference before and after removing sellers that reduces Olist profit\"\n",
    "print(f\"Profit before removing certain sellers: {np.round(values[0],2)} BRLs\")\n",
    "print(f\"Profit after removing certain sellers: {np.round(values[1],2)} BRLs\")\n",
    "print(f\"Profit gained from removing sellers that reduces profit will be \\\n",
    "around {np.round(values[1]-values[0],2)} BRLs (increases by {np.round((values[1]-values[0])/values[0],2)*100}%)\")"
   ]
  },
  {
   "cell_type": "markdown",
   "metadata": {},
   "source": [
    "The calculation above shows the maximum amount of profit gained due to the removal of certain sellers. Next we will visualize the change in profits when removing more and more sellers to confirm that our answer is the optimum quantity."
   ]
  },
  {
   "cell_type": "code",
   "execution_count": 128,
   "metadata": {
    "slideshow": {
     "slide_type": "slide"
    }
   },
   "outputs": [],
   "source": [
    "#Sorting sellers in the dataframe by the profits that they bring to the company\n",
    "sorted_sellers = sell_cal.sort_values(by = \"net_profit\")\n",
    "\n",
    "#Calculating the cumulated profits achieved after removing each seller (from the sellers with least profit/most losses, to the\n",
    "#sellers with the most profits), and appending them to a list for visualisation purpose later\n",
    "profit = []\n",
    "\n",
    "for i in range(len(sorted_sellers)):\n",
    "    \n",
    "    tmp = sorted_sellers[i:]\n",
    "    it_costs = (tmp[\"n_orders\"])**0.5 * IT_g\n",
    "    total_profits = (tmp[\"profits\"] - it_costs).sum()\n",
    "    profit.append(total_profits)"
   ]
  },
  {
   "cell_type": "code",
   "execution_count": 146,
   "metadata": {},
   "outputs": [
    {
     "data": {
      "image/png": "[encoded data removed]",
      "text/plain": [
       "<Figure size 1080x432 with 1 Axes>"
      ]
     },
     "metadata": {
      "needs_background": "light"
     },
     "output_type": "display_data"
    }
   ],
   "source": [
    "#Visualising the cumulative profits achieved after removing each seller, starting from the sellers with least profit/most losses,\n",
    "#to the sellers with the most profits\n",
    "x = [i for i in range(len(sorted_sellers))]\n",
    "plt.figure(figsize = (15,6))\n",
    "plt.plot(x, profit, label=\"Olist Profits Sum\")\n",
    "plt.ylabel(\"Olist Profits (BRLs)\")\n",
    "plt.xlabel(\"Number of sellers removed (Nos)\")\n",
    "plt.vlines(profit.index(max(profit)),0,max(profit), colors=\"r\")\n",
    "plt.hlines(max(profit),0,profit.index(max(profit)), colors=\"r\")\n",
    "plt.legend()\n",
    "plt.title(\"Graph of Changes in Profit against Number of Sellers Removed\");"
   ]
  },
  {
   "cell_type": "markdown",
   "metadata": {},
   "source": [
    "## Further analysis into the sellers that reduces Olist profits"
   ]
  },
  {
   "cell_type": "markdown",
   "metadata": {},
   "source": [
    "Although direct removal of sellers that reduces Olist profits will have the most direct result, there are certain aspects that we need to confirm if this is the most ideal condition. One aspects that we didn't confirm is to check if the sellers that are in the removal lists are newcomers to the Olist platform. If the sellers affected is a newcomer, is it possible if we give an observation period for them to adjust and improve before removing them from the platform?"
   ]
  },
  {
   "cell_type": "code",
   "execution_count": 151,
   "metadata": {},
   "outputs": [
    {
     "data": {
      "image/png": "[encoded data removed]",
      "text/plain": [
       "<Figure size 720x360 with 1 Axes>"
      ]
     },
     "metadata": {
      "needs_background": "light"
     },
     "output_type": "display_data"
    },
    {
     "name": "stdout",
     "output_type": "stream",
     "text": [
      "Total number of sellers to be removed is 1004\n"
     ]
    }
   ],
   "source": [
    "# Plotting the distribution of under-performing sellers by the number of months on Olist\n",
    "plt.figure(figsize=(10,5))\n",
    "sns.histplot(sell_cal[(sell_cal['net_profit'] < 0)][['months_on_olist']],binwidth=1)\n",
    "num_underperforming_sellers = sell_cal[(sell_cal['net_profit'] < 0)]['months_on_olist'].count()\n",
    "\n",
    "plt.xlabel(\"Number of months\")\n",
    "plt.ylabel(\"Number of under-performing sellers\")\n",
    "plt.title(\"Distribution of under-performing sellers by number of months on Olist \")\n",
    "plt.show()\n",
    "print(f\"Total number of sellers to be removed is {profit.index(max(profit))}\")"
   ]
  },
  {
   "cell_type": "markdown",
   "metadata": {},
   "source": [
    "As per histogram above, it is clearly shown that more than 50% of the sellers are only onto Olist for less than 1 month. Remaining sellers are onto Olist platform from 2 months up until 23 months. To see clearly the distribution, the data will be tabulated with also the cumulative percentage for clear visualisation."
   ]
  },
  {
   "cell_type": "code",
   "execution_count": 168,
   "metadata": {},
   "outputs": [
    {
     "data": {
      "text/html": [
       "<div>\n",
       "<style scoped>\n",
       "    .dataframe tbody tr th:only-of-type {\n",
       "        vertical-align: middle;\n",
       "    }\n",
       "\n",
       "    .dataframe tbody tr th {\n",
       "        vertical-align: top;\n",
       "    }\n",
       "\n",
       "    .dataframe thead th {\n",
       "        text-align: right;\n",
       "    }\n",
       "</style>\n",
       "<table border=\"1\" class=\"dataframe\">\n",
       "  <thead>\n",
       "    <tr style=\"text-align: right;\">\n",
       "      <th></th>\n",
       "      <th>Number of Sellers</th>\n",
       "      <th>profits</th>\n",
       "      <th>net_profit</th>\n",
       "      <th>cum_percent</th>\n",
       "    </tr>\n",
       "    <tr>\n",
       "      <th>months_on_olist</th>\n",
       "      <th></th>\n",
       "      <th></th>\n",
       "      <th></th>\n",
       "      <th></th>\n",
       "    </tr>\n",
       "  </thead>\n",
       "  <tbody>\n",
       "    <tr>\n",
       "      <th>0.0</th>\n",
       "      <td>551</td>\n",
       "      <td>-5002.346</td>\n",
       "      <td>-31237.748509</td>\n",
       "      <td>54.880478</td>\n",
       "    </tr>\n",
       "    <tr>\n",
       "      <th>1.0</th>\n",
       "      <td>116</td>\n",
       "      <td>-565.709</td>\n",
       "      <td>-11519.097072</td>\n",
       "      <td>66.434263</td>\n",
       "    </tr>\n",
       "    <tr>\n",
       "      <th>2.0</th>\n",
       "      <td>61</td>\n",
       "      <td>229.661</td>\n",
       "      <td>-6858.051316</td>\n",
       "      <td>72.509960</td>\n",
       "    </tr>\n",
       "    <tr>\n",
       "      <th>3.0</th>\n",
       "      <td>33</td>\n",
       "      <td>-1900.112</td>\n",
       "      <td>-8148.538759</td>\n",
       "      <td>75.796813</td>\n",
       "    </tr>\n",
       "    <tr>\n",
       "      <th>4.0</th>\n",
       "      <td>34</td>\n",
       "      <td>-2570.929</td>\n",
       "      <td>-10293.116758</td>\n",
       "      <td>79.183267</td>\n",
       "    </tr>\n",
       "    <tr>\n",
       "      <th>5.0</th>\n",
       "      <td>23</td>\n",
       "      <td>-5853.651</td>\n",
       "      <td>-11871.475621</td>\n",
       "      <td>81.474104</td>\n",
       "    </tr>\n",
       "    <tr>\n",
       "      <th>6.0</th>\n",
       "      <td>11</td>\n",
       "      <td>-2945.188</td>\n",
       "      <td>-5944.711385</td>\n",
       "      <td>82.569721</td>\n",
       "    </tr>\n",
       "    <tr>\n",
       "      <th>7.0</th>\n",
       "      <td>19</td>\n",
       "      <td>-15711.716</td>\n",
       "      <td>-22928.604539</td>\n",
       "      <td>84.462151</td>\n",
       "    </tr>\n",
       "    <tr>\n",
       "      <th>8.0</th>\n",
       "      <td>10</td>\n",
       "      <td>-1297.004</td>\n",
       "      <td>-4998.223474</td>\n",
       "      <td>85.458167</td>\n",
       "    </tr>\n",
       "    <tr>\n",
       "      <th>9.0</th>\n",
       "      <td>13</td>\n",
       "      <td>-8388.697</td>\n",
       "      <td>-14138.450636</td>\n",
       "      <td>86.752988</td>\n",
       "    </tr>\n",
       "    <tr>\n",
       "      <th>10.0</th>\n",
       "      <td>16</td>\n",
       "      <td>-21569.469</td>\n",
       "      <td>-29979.176505</td>\n",
       "      <td>88.346614</td>\n",
       "    </tr>\n",
       "    <tr>\n",
       "      <th>11.0</th>\n",
       "      <td>7</td>\n",
       "      <td>-8427.759</td>\n",
       "      <td>-12429.532349</td>\n",
       "      <td>89.043825</td>\n",
       "    </tr>\n",
       "    <tr>\n",
       "      <th>12.0</th>\n",
       "      <td>15</td>\n",
       "      <td>-33026.857</td>\n",
       "      <td>-40773.236657</td>\n",
       "      <td>90.537849</td>\n",
       "    </tr>\n",
       "    <tr>\n",
       "      <th>13.0</th>\n",
       "      <td>10</td>\n",
       "      <td>-6296.033</td>\n",
       "      <td>-11962.815826</td>\n",
       "      <td>91.533865</td>\n",
       "    </tr>\n",
       "    <tr>\n",
       "      <th>14.0</th>\n",
       "      <td>5</td>\n",
       "      <td>-2702.846</td>\n",
       "      <td>-5455.042922</td>\n",
       "      <td>92.031873</td>\n",
       "    </tr>\n",
       "    <tr>\n",
       "      <th>15.0</th>\n",
       "      <td>11</td>\n",
       "      <td>-11352.399</td>\n",
       "      <td>-17357.837093</td>\n",
       "      <td>93.127490</td>\n",
       "    </tr>\n",
       "    <tr>\n",
       "      <th>16.0</th>\n",
       "      <td>7</td>\n",
       "      <td>-2729.317</td>\n",
       "      <td>-7036.859502</td>\n",
       "      <td>93.824701</td>\n",
       "    </tr>\n",
       "    <tr>\n",
       "      <th>17.0</th>\n",
       "      <td>13</td>\n",
       "      <td>-12402.269</td>\n",
       "      <td>-20162.634519</td>\n",
       "      <td>95.119522</td>\n",
       "    </tr>\n",
       "    <tr>\n",
       "      <th>18.0</th>\n",
       "      <td>17</td>\n",
       "      <td>-58539.371</td>\n",
       "      <td>-72453.537127</td>\n",
       "      <td>96.812749</td>\n",
       "    </tr>\n",
       "    <tr>\n",
       "      <th>19.0</th>\n",
       "      <td>17</td>\n",
       "      <td>-30883.255</td>\n",
       "      <td>-44469.563550</td>\n",
       "      <td>98.505976</td>\n",
       "    </tr>\n",
       "    <tr>\n",
       "      <th>20.0</th>\n",
       "      <td>3</td>\n",
       "      <td>-22542.838</td>\n",
       "      <td>-25603.430358</td>\n",
       "      <td>98.804781</td>\n",
       "    </tr>\n",
       "    <tr>\n",
       "      <th>22.0</th>\n",
       "      <td>5</td>\n",
       "      <td>-3164.468</td>\n",
       "      <td>-5992.627130</td>\n",
       "      <td>99.302789</td>\n",
       "    </tr>\n",
       "    <tr>\n",
       "      <th>23.0</th>\n",
       "      <td>7</td>\n",
       "      <td>-17597.505</td>\n",
       "      <td>-22934.902761</td>\n",
       "      <td>100.000000</td>\n",
       "    </tr>\n",
       "  </tbody>\n",
       "</table>\n",
       "</div>"
      ],
      "text/plain": [
       "                 Number of Sellers    profits    net_profit  cum_percent\n",
       "months_on_olist                                                         \n",
       "0.0                            551  -5002.346 -31237.748509    54.880478\n",
       "1.0                            116   -565.709 -11519.097072    66.434263\n",
       "2.0                             61    229.661  -6858.051316    72.509960\n",
       "3.0                             33  -1900.112  -8148.538759    75.796813\n",
       "4.0                             34  -2570.929 -10293.116758    79.183267\n",
       "5.0                             23  -5853.651 -11871.475621    81.474104\n",
       "6.0                             11  -2945.188  -5944.711385    82.569721\n",
       "7.0                             19 -15711.716 -22928.604539    84.462151\n",
       "8.0                             10  -1297.004  -4998.223474    85.458167\n",
       "9.0                             13  -8388.697 -14138.450636    86.752988\n",
       "10.0                            16 -21569.469 -29979.176505    88.346614\n",
       "11.0                             7  -8427.759 -12429.532349    89.043825\n",
       "12.0                            15 -33026.857 -40773.236657    90.537849\n",
       "13.0                            10  -6296.033 -11962.815826    91.533865\n",
       "14.0                             5  -2702.846  -5455.042922    92.031873\n",
       "15.0                            11 -11352.399 -17357.837093    93.127490\n",
       "16.0                             7  -2729.317  -7036.859502    93.824701\n",
       "17.0                            13 -12402.269 -20162.634519    95.119522\n",
       "18.0                            17 -58539.371 -72453.537127    96.812749\n",
       "19.0                            17 -30883.255 -44469.563550    98.505976\n",
       "20.0                             3 -22542.838 -25603.430358    98.804781\n",
       "22.0                             5  -3164.468  -5992.627130    99.302789\n",
       "23.0                             7 -17597.505 -22934.902761   100.000000"
      ]
     },
     "execution_count": 168,
     "metadata": {},
     "output_type": "execute_result"
    }
   ],
   "source": [
    "# The distribution of underperforming sellers are tabulated as shown below. Cumulative percentage of the sellers \n",
    "agg = sell_cal[(sell_cal['net_profit'] < 0)].groupby(\"months_on_olist\").agg({'seller_id':'count','profits':'sum','net_profit':'sum'})\n",
    "agg.rename(columns={'seller_id':'Number of Sellers'}, inplace=True)\n",
    "agg['cum_percent'] = 100*(agg['Number of Sellers'].cumsum() / agg['Number of Sellers'].sum())\n",
    "agg"
   ]
  },
  {
   "cell_type": "code",
   "execution_count": 180,
   "metadata": {},
   "outputs": [
    {
     "name": "stdout",
     "output_type": "stream",
     "text": [
      "Percentage of underperforming sellers loss that are less than 5 months: 17.98 % \n",
      "Percentage of underperforming sellers loss that are less than 1 months: 7.03 % \n"
     ]
    }
   ],
   "source": [
    "print(f\"Percentage of underperforming sellers loss that are less than 5 months: \\\n",
    "{np.round(agg.loc[0:5,'net_profit'].sum()/agg.sum()[2]*100,2)} % \")\n",
    "print(f\"Percentage of underperforming sellers loss that are less than 1 months: \\\n",
    "{np.round(agg.loc[0,'net_profit'].sum()/agg.sum()[2]*100,2)} % \")"
   ]
  },
  {
   "cell_type": "markdown",
   "metadata": {},
   "source": [
    "From the table above, we can see that 54.9% of sellers are on Olist platform in less than 1 month and they account for 7% of overall loss, and 81.5% of sellers that are 5 months or less on Olist platform accounts for 18% of overall loss.  \n",
    "We then confirm if the profit earned by Olist is greatly affected if we do not remove those underperforming sellers that are 5 months or less on Olist."
   ]
  },
  {
   "cell_type": "code",
   "execution_count": 232,
   "metadata": {},
   "outputs": [
    {
     "data": {
      "image/png": "[encoded data removed]",
      "text/plain": [
       "<Figure size 1080x504 with 1 Axes>"
      ]
     },
     "metadata": {
      "needs_background": "light"
     },
     "output_type": "display_data"
    }
   ],
   "source": [
    "profit_exclude_5mth = sell_cal[~((sell_cal['net_profit'] < 0)&(sell_cal['months_on_olist']>=6))]['net_profit'].sum()\n",
    "\n",
    "# Compute the overall profits before and after eliminating under-performing sellers\n",
    "profit_include = sell_cal['net_profit'].sum()\n",
    "profit_exclude = sell_cal[sell_cal['net_profit'] > 0]['net_profit'].sum()\n",
    "values = [profit_include,profit_exclude, profit_exclude_5mth]\n",
    "profits = ['profit_include', 'profit_exclude','profit_exclude_5_months']\n",
    "\n",
    "# plot the chart to visualize before and after eliminating under-performing sellers. \n",
    "plt.figure(figsize=(15,7))\n",
    "plt.bar(profits,values)\n",
    "\n",
    "# Labels for bar chart\n",
    "def labels(profits):\n",
    "    for i in range(len(profits)):\n",
    "        plt.text(i,profits[i],profits[i], ha = 'center',\n",
    "                 bbox = dict(facecolor = \"white\", alpha =0.7))\n",
    "\n",
    "plt.title('Olist profit against underperforming sellers removed based on their months on olist')\n",
    "plt.xlabel(\"After removing underperforming sellers that are more than X months\")\n",
    "plt.ylabel(\"Olist Profits\")\n",
    "labels([np.round(x,2) for x in values])\n",
    "plt.show()"
   ]
  },
  {
   "cell_type": "code",
   "execution_count": 239,
   "metadata": {},
   "outputs": [
    {
     "name": "stdout",
     "output_type": "stream",
     "text": [
      "Profit earned after excluding sellers that are more than 5 months in Olist is 364621.19 BRLs (54.62 % increase)\n"
     ]
    }
   ],
   "source": [
    "print(f\"Profit earned after excluding sellers that are more than 5 months in Olist is \\\n",
    "{np.round(profit_exclude_5mth-profit_include,2)} BRLs ({np.round((profit_exclude_5mth-profit_include)/profit_include*100,2)} \\\n",
    "% increase)\")"
   ]
  },
  {
   "cell_type": "markdown",
   "metadata": {},
   "source": [
    "We could see that when we give the sellers that are 5 months or less on Olist a probation period (which is 80% of the underperforming sellers), Olist profit is still able to increase by 54.62%.  \n",
    "Furthermore, new sellers will need some extra time and sales to build their business on the Olist platform. The method of removing new sellers as soon as they are underperforming upon arrival will be bad for the platform's health. This will discourage new SME sellers to board the Olist platform."
   ]
  },
  {
   "cell_type": "markdown",
   "metadata": {},
   "source": [
    "## Suggestion & Recommendation"
   ]
  },
  {
   "cell_type": "markdown",
   "metadata": {},
   "source": [
    "### Suggestion : Removing Underperforming Sellers"
   ]
  },
  {
   "cell_type": "markdown",
   "metadata": {},
   "source": [
    "1. By removing under-performing sellers that are more than 5 months in Olist, your profit is estimated to be able to increase by 54.62%. \n",
    "2. For the under-performing sellers that are less than 5 months, they account for only 18% of the total loss. Olist can consider to provide opportunities to the new incoming under-performing sellers by providing additional training or consultation that may help the new sellers to gain traction at Olist platform"
   ]
  },
  {
   "cell_type": "markdown",
   "metadata": {},
   "source": [
    "### Recommendation : Further Analysis of Low Review Category"
   ]
  },
  {
   "cell_type": "markdown",
   "metadata": {},
   "source": [
    "1. Further analyze the reviews using Natural Language Processing to determine why customers give bad and good reviews. The categorization of the bad reviews will help to identify what is the critical factor that will affect negative reviews for further identification and troubleshooting. "
   ]
  }
 ],
 "metadata": {
  "hide_input": false,
  "kernelspec": {
   "display_name": "Python 3 (ipykernel)",
   "language": "python",
   "name": "python3"
  },
  "language_info": {
   "codemirror_mode": {
    "name": "ipython",
    "version": 3
   },
   "file_extension": ".py",
   "mimetype": "text/x-python",
   "name": "python",
   "nbconvert_exporter": "python",
   "pygments_lexer": "ipython3",
   "version": "3.8.12"
  },
  "toc": {
   "base_numbering": 1,
   "nav_menu": {},
   "number_sections": true,
   "sideBar": true,
   "skip_h1_title": false,
   "title_cell": "Table of Contents",
   "title_sidebar": "Contents",
   "toc_cell": false,
   "toc_position": {},
   "toc_section_display": true,
   "toc_window_display": false
  }
 },
 "nbformat": 4,
 "nbformat_minor": 4
}
